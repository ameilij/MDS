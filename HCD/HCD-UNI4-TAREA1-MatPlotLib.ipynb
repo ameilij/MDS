{
 "cells": [
  {
   "cell_type": "markdown",
   "metadata": {},
   "source": [
    "## Procesamiento de Datos y Visualización con Python\n",
    "### Ejercicio MATPLOTLIB\n",
    "\n",
    "Obtén un diagrama de barras de las cinco primeras fechas del dataset para los precios de apertura y cierre. "
   ]
  },
  {
   "cell_type": "code",
   "execution_count": 1,
   "metadata": {},
   "outputs": [
    {
     "data": {
      "text/html": [
       "<div>\n",
       "<style scoped>\n",
       "    .dataframe tbody tr th:only-of-type {\n",
       "        vertical-align: middle;\n",
       "    }\n",
       "\n",
       "    .dataframe tbody tr th {\n",
       "        vertical-align: top;\n",
       "    }\n",
       "\n",
       "    .dataframe thead th {\n",
       "        text-align: right;\n",
       "    }\n",
       "</style>\n",
       "<table border=\"1\" class=\"dataframe\">\n",
       "  <thead>\n",
       "    <tr style=\"text-align: right;\">\n",
       "      <th></th>\n",
       "      <th>Open</th>\n",
       "      <th>High</th>\n",
       "      <th>Low</th>\n",
       "      <th>Close</th>\n",
       "      <th>Volume</th>\n",
       "      <th>Adj Close</th>\n",
       "    </tr>\n",
       "  </thead>\n",
       "  <tbody>\n",
       "    <tr>\n",
       "      <th>count</th>\n",
       "      <td>3270.000000</td>\n",
       "      <td>3270.000000</td>\n",
       "      <td>3270.000000</td>\n",
       "      <td>3270.000000</td>\n",
       "      <td>3.270000e+03</td>\n",
       "      <td>3270.000000</td>\n",
       "    </tr>\n",
       "    <tr>\n",
       "      <th>mean</th>\n",
       "      <td>151.216673</td>\n",
       "      <td>153.017789</td>\n",
       "      <td>149.103336</td>\n",
       "      <td>151.108138</td>\n",
       "      <td>2.151112e+07</td>\n",
       "      <td>140.505248</td>\n",
       "    </tr>\n",
       "    <tr>\n",
       "      <th>std</th>\n",
       "      <td>165.485538</td>\n",
       "      <td>166.815882</td>\n",
       "      <td>163.681717</td>\n",
       "      <td>165.277867</td>\n",
       "      <td>1.482164e+07</td>\n",
       "      <td>165.408965</td>\n",
       "    </tr>\n",
       "    <tr>\n",
       "      <th>min</th>\n",
       "      <td>12.990000</td>\n",
       "      <td>13.190000</td>\n",
       "      <td>12.720000</td>\n",
       "      <td>13.120000</td>\n",
       "      <td>1.405000e+06</td>\n",
       "      <td>6.380000</td>\n",
       "    </tr>\n",
       "    <tr>\n",
       "      <th>25%</th>\n",
       "      <td>24.592500</td>\n",
       "      <td>25.060000</td>\n",
       "      <td>24.092500</td>\n",
       "      <td>24.712500</td>\n",
       "      <td>1.159570e+07</td>\n",
       "      <td>12.020000</td>\n",
       "    </tr>\n",
       "    <tr>\n",
       "      <th>50%</th>\n",
       "      <td>85.415000</td>\n",
       "      <td>86.500000</td>\n",
       "      <td>84.355000</td>\n",
       "      <td>85.340000</td>\n",
       "      <td>1.730015e+07</td>\n",
       "      <td>72.410000</td>\n",
       "    </tr>\n",
       "    <tr>\n",
       "      <th>75%</th>\n",
       "      <td>198.957500</td>\n",
       "      <td>200.762500</td>\n",
       "      <td>196.027500</td>\n",
       "      <td>198.010000</td>\n",
       "      <td>2.744490e+07</td>\n",
       "      <td>192.572500</td>\n",
       "    </tr>\n",
       "    <tr>\n",
       "      <th>max</th>\n",
       "      <td>702.410000</td>\n",
       "      <td>705.070000</td>\n",
       "      <td>699.570000</td>\n",
       "      <td>702.100000</td>\n",
       "      <td>2.650690e+08</td>\n",
       "      <td>685.760000</td>\n",
       "    </tr>\n",
       "  </tbody>\n",
       "</table>\n",
       "</div>"
      ],
      "text/plain": [
       "              Open         High          Low        Close        Volume  \\\n",
       "count  3270.000000  3270.000000  3270.000000  3270.000000  3.270000e+03   \n",
       "mean    151.216673   153.017789   149.103336   151.108138  2.151112e+07   \n",
       "std     165.485538   166.815882   163.681717   165.277867  1.482164e+07   \n",
       "min      12.990000    13.190000    12.720000    13.120000  1.405000e+06   \n",
       "25%      24.592500    25.060000    24.092500    24.712500  1.159570e+07   \n",
       "50%      85.415000    86.500000    84.355000    85.340000  1.730015e+07   \n",
       "75%     198.957500   200.762500   196.027500   198.010000  2.744490e+07   \n",
       "max     702.410000   705.070000   699.570000   702.100000  2.650690e+08   \n",
       "\n",
       "         Adj Close  \n",
       "count  3270.000000  \n",
       "mean    140.505248  \n",
       "std     165.408965  \n",
       "min       6.380000  \n",
       "25%      12.020000  \n",
       "50%      72.410000  \n",
       "75%     192.572500  \n",
       "max     685.760000  "
      ]
     },
     "execution_count": 1,
     "metadata": {},
     "output_type": "execute_result"
    }
   ],
   "source": [
    "# Leer bibliotecas de Python\n",
    "import pandas as pd\n",
    "import matplotlib.pyplot as plt\n",
    "import numpy as np\n",
    "\n",
    "# Leer archivos\n",
    "AAPL = pd.read_csv(\"AAPL.csv\")\n",
    "AAPL.describe()"
   ]
  },
  {
   "cell_type": "code",
   "execution_count": 2,
   "metadata": {},
   "outputs": [
    {
     "name": "stdout",
     "output_type": "stream",
     "text": [
      "<class 'pandas.core.frame.DataFrame'>\n",
      "RangeIndex: 3270 entries, 0 to 3269\n",
      "Data columns (total 7 columns):\n",
      " #   Column     Non-Null Count  Dtype  \n",
      "---  ------     --------------  -----  \n",
      " 0   Date       3270 non-null   object \n",
      " 1   Open       3270 non-null   float64\n",
      " 2   High       3270 non-null   float64\n",
      " 3   Low        3270 non-null   float64\n",
      " 4   Close      3270 non-null   float64\n",
      " 5   Volume     3270 non-null   int64  \n",
      " 6   Adj Close  3270 non-null   float64\n",
      "dtypes: float64(5), int64(1), object(1)\n",
      "memory usage: 179.0+ KB\n"
     ]
    }
   ],
   "source": [
    "# Obtener un poco más de información sobre la estructura\n",
    "AAPL.info(verbose = True)"
   ]
  },
  {
   "cell_type": "markdown",
   "metadata": {},
   "source": [
    "__NOTA:__ Cuando leemos el archivo, las fechas no pasan como fechas sino que pasan como _strings_, que en Python es una primitiva para el tipo _OBJECT_. Hay que transformar las fechas en fechas reales usando `pd.to_datetime()`. "
   ]
  },
  {
   "cell_type": "code",
   "execution_count": 4,
   "metadata": {},
   "outputs": [
    {
     "data": {
      "text/plain": [
       "0   2000-03-01\n",
       "1   2000-03-02\n",
       "2   2000-03-03\n",
       "3   2000-03-06\n",
       "4   2000-03-07\n",
       "Name: Date, dtype: datetime64[ns]"
      ]
     },
     "execution_count": 4,
     "metadata": {},
     "output_type": "execute_result"
    }
   ],
   "source": [
    "AAPL['Date'] = pd.to_datetime(AAPL['Date'])\n",
    "AAPL['Date'].head()"
   ]
  },
  {
   "cell_type": "markdown",
   "metadata": {},
   "source": [
    "Todavía no terminamos. Ahora tenemos que crear un dataframe sencillo para pasar a `plot` y cuyos índices sean las fechas. El método `drop` de _Pandas_ usa la clave de eje para saber si es fila o columna. Adicionalmente en el comando para reestablecer la clave hay que indicar que lo haga `inplace` o sino lo copia a un nuevo objeto. "
   ]
  },
  {
   "cell_type": "code",
   "execution_count": 5,
   "metadata": {},
   "outputs": [
    {
     "data": {
      "text/html": [
       "<div>\n",
       "<style scoped>\n",
       "    .dataframe tbody tr th:only-of-type {\n",
       "        vertical-align: middle;\n",
       "    }\n",
       "\n",
       "    .dataframe tbody tr th {\n",
       "        vertical-align: top;\n",
       "    }\n",
       "\n",
       "    .dataframe thead th {\n",
       "        text-align: right;\n",
       "    }\n",
       "</style>\n",
       "<table border=\"1\" class=\"dataframe\">\n",
       "  <thead>\n",
       "    <tr style=\"text-align: right;\">\n",
       "      <th></th>\n",
       "      <th>Open</th>\n",
       "      <th>Close</th>\n",
       "    </tr>\n",
       "    <tr>\n",
       "      <th>Date</th>\n",
       "      <th></th>\n",
       "      <th></th>\n",
       "    </tr>\n",
       "  </thead>\n",
       "  <tbody>\n",
       "    <tr>\n",
       "      <th>2000-03-01</th>\n",
       "      <td>118.56</td>\n",
       "      <td>130.31</td>\n",
       "    </tr>\n",
       "    <tr>\n",
       "      <th>2000-03-02</th>\n",
       "      <td>127.00</td>\n",
       "      <td>122.00</td>\n",
       "    </tr>\n",
       "    <tr>\n",
       "      <th>2000-03-03</th>\n",
       "      <td>124.87</td>\n",
       "      <td>128.00</td>\n",
       "    </tr>\n",
       "    <tr>\n",
       "      <th>2000-03-06</th>\n",
       "      <td>126.00</td>\n",
       "      <td>125.69</td>\n",
       "    </tr>\n",
       "  </tbody>\n",
       "</table>\n",
       "</div>"
      ],
      "text/plain": [
       "              Open   Close\n",
       "Date                      \n",
       "2000-03-01  118.56  130.31\n",
       "2000-03-02  127.00  122.00\n",
       "2000-03-03  124.87  128.00\n",
       "2000-03-06  126.00  125.69"
      ]
     },
     "execution_count": 5,
     "metadata": {},
     "output_type": "execute_result"
    }
   ],
   "source": [
    "# Transformar data to plot así MatPlotLib no se atasca\n",
    "data = AAPL.copy()\n",
    "data = data.drop(['High', 'Low', 'Volume', 'Adj Close'], axis = 1)\n",
    "data.set_index('Date', inplace = True)\n",
    "data.head(4)"
   ]
  },
  {
   "cell_type": "markdown",
   "metadata": {},
   "source": [
    "Finalmente, el cuadro esperado:"
   ]
  },
  {
   "cell_type": "code",
   "execution_count": 7,
   "metadata": {},
   "outputs": [
    {
     "data": {
      "text/plain": [
       "<matplotlib.axes._subplots.AxesSubplot at 0x7f9349067710>"
      ]
     },
     "execution_count": 7,
     "metadata": {},
     "output_type": "execute_result"
    },
    {
     "data": {
      "image/png": "[encoded data removed]",
      "text/plain": [
       "<Figure size 432x288 with 1 Axes>"
      ]
     },
     "metadata": {
      "needs_background": "light"
     },
     "output_type": "display_data"
    }
   ],
   "source": [
    "data.head(5).plot(kind = \"barh\", title = \"AAPL Precios\")"
   ]
  },
  {
   "cell_type": "markdown",
   "metadata": {},
   "source": [
    "__Nota:__ Este es uno de los ejercicios que más me costó resolver, y tuve que dejarlo para el final de la semana porque no encontraba la solución adecuada (julio-12-2020)."
   ]
  },
  {
   "cell_type": "code",
   "execution_count": null,
   "metadata": {},
   "outputs": [],
   "source": []
  }
 ],
 "metadata": {
  "kernelspec": {
   "display_name": "Python 3",
   "language": "python",
   "name": "python3"
  },
  "language_info": {
   "codemirror_mode": {
    "name": "ipython",
    "version": 3
   },
   "file_extension": ".py",
   "mimetype": "text/x-python",
   "name": "python",
   "nbconvert_exporter": "python",
   "pygments_lexer": "ipython3",
   "version": "3.7.6"
  }
 },
 "nbformat": 4,
 "nbformat_minor": 4
}
