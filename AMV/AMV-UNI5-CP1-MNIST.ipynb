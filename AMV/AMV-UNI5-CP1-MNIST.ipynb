{
 "cells": [
  {
   "cell_type": "markdown",
   "metadata": {},
   "source": [
    "### Unidad 5 Caso Práctico 1\n",
    "# Juego de Datos MNIST\n",
    "\n",
    "## Datos\n",
    "Un tipo de datos muy habitual en ciencia de datos moderna son las imágenes. Basta con tratar cada píxel como un punto de datos y cada imagen como un caso.\n",
    "\n",
    "Un conjunto de datos que ha sido utilizado como problema de referencia durante mucho tiempo es el conocido como MNIST Digits, que consiste en 7 000 imágenes de dígitos del cero al nueve, manuscritos.\n",
    "\n",
    "Estas imágenes están preprocesadas para facilitar su utilización: todas están convertidas a blanco y negro, centradas, hechas más grandes o más pequeñas para que todas tengan el mismo tamaño, etc.\n",
    "\n",
    "El problema típico que se aborda con este conjunto de datos es el de clasificación de imágenes: se trataría de identificar de qué dígito se trata en cada caso, a partir únicamente de los píxeles de la imagen. Para ello, se suministra, junto con las imágenes, el valor de referencia para cada dígito (obtenido mediante el consenso o la mayoría de opiniones sobre de qué digito se trata en cada caso, expresadas por voluntarios).\n",
    "\n",
    "En este caso práctico no se va a realizar un modelo complejo de clasificación (que, aunque es una tarea propia de la ciencia de datos, no se recoge en esta unidad, sino en otras posteriores, más especializadas), pero si se va a manejar esa información para crear modelos triviales y comprobar su rendimiento."
   ]
  },
  {
   "cell_type": "markdown",
   "metadata": {},
   "source": [
    "## El Problema\n",
    "\n",
    "1. Importar los datos de las imágenes de los dígitos MNIST y los datos de la clase a la que pertenece cada uno.\n",
    "2. Realizar un análisis exploratorio de los datos. En concreto, preparar los datos para su utilización y visualizar ejemplos de dígitos y la clase a la que pertenece cada uno.\n",
    "3. Para los dígitos cero y uno, crear un modelo de clasificación basado simplemente en el porcentaje horizontal de la imagen que tiene píxeles marcados (que debería ser menor en el caso de los unos, ya que son más “estrechos”).\n",
    "4. Evaluar el rendimiento de ese clasificador mediante tablas de contingencia y cálculo de métricas habituales para problemas de este tipo.      \n",
    "5. Generar la curva ROC de este modelo y calcular el AUC ROC.\n",
    "6. Crear otro modelo de clasificación para los dígitos cero y uno basado en la cantidad de tinta utilizada en cada imagen, y compararlo con el primer modelo.\n"
   ]
  },
  {
   "cell_type": "markdown",
   "metadata": {},
   "source": [
    "## Analizando una Solución\n",
    "Este problema es complicado, ya que involucra utilizar un modelo heurístico para la solución. Antes que nada preparemos todas las librerias que son necesarias para resolver el problema. "
   ]
  },
  {
   "cell_type": "code",
   "execution_count": 1,
   "metadata": {},
   "outputs": [],
   "source": [
    "# Carga de las librerias relevantes para el programa\n",
    "import pyarrow.parquet as pq\n",
    "import numpy as np\n",
    "import pandas as pd\n",
    "from numpy.core._multiarray_umath import ndarray\n",
    "from sklearn.metrics import roc_curve\n",
    "from sklearn.metrics import roc_auc_score\n",
    "from matplotlib import pyplot"
   ]
  },
  {
   "cell_type": "markdown",
   "metadata": {},
   "source": [
    "Comencemos por la parte más sencilla del problema que es cargar los datos. "
   ]
  },
  {
   "cell_type": "code",
   "execution_count": 2,
   "metadata": {},
   "outputs": [],
   "source": [
    "# Open MNIST dataset with pixel files and class files.\n",
    "# The data is stored as parquet files\n",
    "image_set = pq.read_table('mnist_pixels.parquet')\n",
    "image_set = image_set.to_pandas()\n",
    "\n",
    "image_class = pq.read_table('mnist_clases.parquet')\n",
    "image_class = image_class.to_pandas()\n",
    "image_class = pd.to_numeric(image_class['class'])"
   ]
  },
  {
   "cell_type": "markdown",
   "metadata": {},
   "source": [
    "Veamos un poco que hay adentro de cada estructura de datos. En teoría una es una matriz de datos con los valores de cada pixel, y la otra solamente un número que denota la clase. "
   ]
  },
  {
   "cell_type": "code",
   "execution_count": 3,
   "metadata": {},
   "outputs": [
    {
     "name": "stdout",
     "output_type": "stream",
     "text": [
      "pixel1      0.0\n",
      "pixel2      0.0\n",
      "pixel3      0.0\n",
      "pixel4      0.0\n",
      "pixel5      0.0\n",
      "           ... \n",
      "pixel780    0.0\n",
      "pixel781    0.0\n",
      "pixel782    0.0\n",
      "pixel783    0.0\n",
      "pixel784    0.0\n",
      "Name: 1, Length: 784, dtype: float64\n"
     ]
    }
   ],
   "source": [
    "print(image_set.iloc[1])"
   ]
  },
  {
   "cell_type": "markdown",
   "metadata": {},
   "source": [
    "Este formato no es muy interesante. Hay 784 posiciones, que es el resultado de 28 x 28 pixeles con valores que van del 0 al 255. El formato 28 x 28 pixeles es como vienen cortadas las imagenes que se procesan en el juego MNIST. Sería muy interesante poder ver como queda esto en una matriz de 28 x 28. Adicionalmente, como queremos medir densidad de cada matriz, basta con ver si hay valor o no, o sea 0 o 1. "
   ]
  },
  {
   "cell_type": "code",
   "execution_count": 4,
   "metadata": {},
   "outputs": [
    {
     "name": "stdout",
     "output_type": "stream",
     "text": [
      "[[0 0 0 0 0 0 0 0 0 0 0 0 0 0 0 0 0 0 0 0 0 0 0 0 0 0 0 0]\n",
      " [0 0 0 0 0 0 0 0 0 0 0 0 0 0 0 0 0 0 0 0 0 0 0 0 0 0 0 0]\n",
      " [0 0 0 0 0 0 0 0 0 0 0 0 0 0 0 0 0 0 0 0 0 0 0 0 0 0 0 0]\n",
      " [0 0 0 0 0 0 0 0 0 0 0 0 0 0 0 0 0 0 0 0 0 0 0 0 0 0 0 0]\n",
      " [0 0 0 0 0 0 0 0 0 0 0 0 0 0 0 1 1 1 1 1 0 0 0 0 0 0 0 0]\n",
      " [0 0 0 0 0 0 0 0 0 0 0 0 0 0 1 1 1 1 1 1 0 0 0 0 0 0 0 0]\n",
      " [0 0 0 0 0 0 0 0 0 0 0 0 0 1 1 1 1 1 1 1 1 1 0 0 0 0 0 0]\n",
      " [0 0 0 0 0 0 0 0 0 0 0 1 1 1 1 1 1 1 1 1 1 1 0 0 0 0 0 0]\n",
      " [0 0 0 0 0 0 0 0 0 0 0 1 1 1 1 1 1 1 1 1 1 1 0 0 0 0 0 0]\n",
      " [0 0 0 0 0 0 0 0 0 0 1 1 1 1 1 1 1 1 1 1 1 1 0 0 0 0 0 0]\n",
      " [0 0 0 0 0 0 0 0 0 1 1 1 1 1 1 1 1 1 0 0 1 1 1 0 0 0 0 0]\n",
      " [0 0 0 0 0 0 0 0 1 1 1 1 1 1 0 0 0 0 0 0 1 1 1 0 0 0 0 0]\n",
      " [0 0 0 0 0 0 0 1 1 1 1 1 1 1 0 0 0 0 0 0 1 1 1 0 0 0 0 0]\n",
      " [0 0 0 0 0 0 0 1 1 1 1 0 0 0 0 0 0 0 0 0 1 1 1 0 0 0 0 0]\n",
      " [0 0 0 0 0 0 0 1 1 1 0 0 0 0 0 0 0 0 0 0 1 1 1 0 0 0 0 0]\n",
      " [0 0 0 0 0 0 1 1 1 1 0 0 0 0 0 0 0 0 0 0 1 1 1 0 0 0 0 0]\n",
      " [0 0 0 0 0 0 1 1 1 1 0 0 0 0 0 0 0 0 1 1 1 1 1 0 0 0 0 0]\n",
      " [0 0 0 0 0 0 1 1 1 0 0 0 0 0 0 0 0 1 1 1 1 1 0 0 0 0 0 0]\n",
      " [0 0 0 0 0 0 1 1 1 0 0 0 0 0 0 0 1 1 1 1 0 0 0 0 0 0 0 0]\n",
      " [0 0 0 0 0 0 1 1 1 0 0 0 0 0 0 1 1 1 1 0 0 0 0 0 0 0 0 0]\n",
      " [0 0 0 0 0 0 1 1 1 1 1 1 1 1 1 1 1 1 1 0 0 0 0 0 0 0 0 0]\n",
      " [0 0 0 0 0 0 1 1 1 1 1 1 1 1 1 1 1 0 0 0 0 0 0 0 0 0 0 0]\n",
      " [0 0 0 0 0 0 1 1 1 1 1 1 1 1 1 0 0 0 0 0 0 0 0 0 0 0 0 0]\n",
      " [0 0 0 0 0 0 0 1 1 1 1 1 1 1 0 0 0 0 0 0 0 0 0 0 0 0 0 0]\n",
      " [0 0 0 0 0 0 0 0 0 0 0 0 0 0 0 0 0 0 0 0 0 0 0 0 0 0 0 0]\n",
      " [0 0 0 0 0 0 0 0 0 0 0 0 0 0 0 0 0 0 0 0 0 0 0 0 0 0 0 0]\n",
      " [0 0 0 0 0 0 0 0 0 0 0 0 0 0 0 0 0 0 0 0 0 0 0 0 0 0 0 0]\n",
      " [0 0 0 0 0 0 0 0 0 0 0 0 0 0 0 0 0 0 0 0 0 0 0 0 0 0 0 0]]\n"
     ]
    }
   ],
   "source": [
    "def transform_clean_format(image_set_instance):\n",
    "    \"\"\"Transform an image to a CLEAN_FORMAT, which is an image of 28x28 zeros or ones.\n",
    "    This simplifies a lot calculating actual space used by a pic regardless or value.\n",
    "\n",
    "    :parameter image_set_instance\n",
    "\n",
    "    :return image_clean_format\n",
    "    \"\"\"\n",
    "    temp = image_set_instance.to_list()\n",
    "    temp2 = [1 if valores > 0 else 0 for valores in temp]\n",
    "    image_clean_format: ndarray = np.reshape(temp2, (28, 28))\n",
    "    return image_clean_format\n",
    "\n",
    "print(transform_clean_format(image_set.iloc[1]))"
   ]
  },
  {
   "cell_type": "markdown",
   "metadata": {},
   "source": [
    "No solo funcionó muy bien, sino que a simple vista se puede ver que es un cero. Pero para estar seguro revisemos el valor real de la imagen en el juego de clases. "
   ]
  },
  {
   "cell_type": "code",
   "execution_count": 5,
   "metadata": {},
   "outputs": [
    {
     "name": "stdout",
     "output_type": "stream",
     "text": [
      "0\n"
     ]
    }
   ],
   "source": [
    "print(image_class.iloc[1])"
   ]
  },
  {
   "cell_type": "markdown",
   "metadata": {},
   "source": [
    "Un modelo de clasificación necesita parámetros. ¿Qué clasificamos como cero y qué clasificamos como uno? Teóricamente los 1 son más delgados y su densidad dentro de la matriz es menor que la de los 0, ya que ocupan menos espacio. Podemos calcular la densidad de cualquier imagen para ver si es 0 o 1. Pero antes, tenemos que poder discernir cual es la densidad promedio de todos los 1 y todos los 0. "
   ]
  },
  {
   "cell_type": "code",
   "execution_count": 6,
   "metadata": {},
   "outputs": [],
   "source": [
    "def calculate_horizontal_density(some_image_matrix):\n",
    "    \"\"\"Calculate the average pixel density for the 28 rows in an image matrix\n",
    "    :parameter\n",
    "    some_image_matrix\n",
    "\n",
    "    :return\n",
    "    row_density_counter\n",
    "    \"\"\"\n",
    "    row_density_counter = []\n",
    "    for rows in some_image_matrix:\n",
    "        temp = sum(rows)/len(rows)\n",
    "        row_density_counter.append(temp)\n",
    "    return np.mean(row_density_counter)"
   ]
  },
  {
   "cell_type": "markdown",
   "metadata": {},
   "source": [
    "Probemos el algoritmo con un solo número. "
   ]
  },
  {
   "cell_type": "code",
   "execution_count": 7,
   "metadata": {},
   "outputs": [
    {
     "name": "stdout",
     "output_type": "stream",
     "text": [
      "0.22448979591836735\n"
     ]
    }
   ],
   "source": [
    "print(calculate_horizontal_density(transform_clean_format(image_set.iloc[1])))"
   ]
  },
  {
   "cell_type": "markdown",
   "metadata": {},
   "source": [
    "Bien, por lo que vemos el 0 ocupa más o menos 0.22 de densidad. Automaticemos el análisis para obtener la densidad promedio de todos los 0 y todos los 1. "
   ]
  },
  {
   "cell_type": "code",
   "execution_count": 8,
   "metadata": {},
   "outputs": [
    {
     "name": "stdout",
     "output_type": "stream",
     "text": [
      "Begin evaluation of images with class 1.\n",
      "Class Average Horizontal Density:  0.1095654683099595\n",
      "Class SD Horizontal Density:  0.025619148318372687\n",
      "Class Occurrences:  7877 \n",
      "\n",
      "Begin evaluation of images with class 0.\n",
      "Class Average Horizontal Density:  0.24460545843717754\n",
      "Class SD Horizontal Density:  0.0429571657861942\n",
      "Class Occurrences:  6903 \n",
      "\n"
     ]
    }
   ],
   "source": [
    "def get_class_average_horizontal_density(image_set, class_set, target):\n",
    "    \"\"\"Get a target class, evaluate all elements, and return average\n",
    "    horizontal density of row for that class\n",
    "\n",
    "    :parameter image_set\n",
    "    :parameter class_set\n",
    "    :parameter target\n",
    "\n",
    "    :return class_average_horizontal_density_list MEAN\n",
    "    :return class_average_horizontal_density_list SD\n",
    "    :return counter_evaluation\n",
    "    \"\"\"\n",
    "    class_average_horizontal_density_list = []\n",
    "    counter_evaluation = 0\n",
    "\n",
    "    for i in range(1, len(image_set)):\n",
    "        if (class_set[i] == target):\n",
    "            reduced_image_set = transform_clean_format(image_set.iloc[i])\n",
    "            temp = calculate_horizontal_density(reduced_image_set)\n",
    "            class_average_horizontal_density_list.append(temp)\n",
    "            counter_evaluation = counter_evaluation + 1\n",
    "\n",
    "    return(np.mean(class_average_horizontal_density_list), np.std(class_average_horizontal_density_list), counter_evaluation)\n",
    "\n",
    "# Evaluate average horizontal density for images of 0 and 1\n",
    "print(\"Begin evaluation of images with class 1.\")\n",
    "results_1 = get_class_average_horizontal_density(image_set, image_class, 1)\n",
    "print(\"Class Average Horizontal Density: \", results_1[0])\n",
    "print(\"Class SD Horizontal Density: \", results_1[1])\n",
    "print(\"Class Occurrences: \", results_1[2], \"\\n\")\n",
    "\n",
    "print(\"Begin evaluation of images with class 0.\")\n",
    "results_2 = get_class_average_horizontal_density(image_set, image_class, 0)\n",
    "print(\"Class Average Horizontal Density: \", results_2[0])\n",
    "print(\"Class SD Horizontal Density: \", results_2[1])\n",
    "print(\"Class Occurrences: \", results_2[2], \"\\n\")"
   ]
  },
  {
   "cell_type": "markdown",
   "metadata": {},
   "source": [
    "## Un Modelo Heurístico\n",
    "Un modelo simple puede ser evaluar todos los números 1 y 0. Uno estaría tentado a evaluar si el dígito está más cerca de la densidad promedio del 1 y el 0, pero para mejorar el modelo simplemente ampliemos a una cota superior e inferior con tres desviaciones estándar de forma de abarcar más. Dado la diferencia entre ambos promedios es relativamente grande, puede ser un buen punto de comienzo."
   ]
  },
  {
   "cell_type": "code",
   "execution_count": 9,
   "metadata": {},
   "outputs": [],
   "source": [
    "def density_classifier(image):\n",
    "    \"\"\"Simple classification model that analyzes if horizontal density of an image\n",
    "    belongs to that trained for zeroes or ones. Function assumes that information in\n",
    "    image is either one or zero, not any other number.\n",
    "\n",
    "    :parameter image\n",
    "\n",
    "    :return prediction\n",
    "    \"\"\"\n",
    "\n",
    "    # Model parameters for ZERO classification\n",
    "    zero_mean = 0.24460545843717754\n",
    "    zero_sd = 0.0429571657861942\n",
    "    zero_ub = zero_mean + (3 * zero_sd)\n",
    "    zero_lb = zero_mean - (3 * zero_sd)\n",
    "\n",
    "    # Model parameters for ONE classification\n",
    "    one_mean = 0.1095654683099595\n",
    "    one_sd = 0.025619148318372687\n",
    "    one_ub = one_mean + (3 * one_sd)\n",
    "    one_lb = one_mean - (3 * one_sd)\n",
    "\n",
    "    temp = calculate_horizontal_density(image)\n",
    "    prediction = 9\n",
    "    if(temp >= zero_lb and temp < zero_ub): prediction = 0\n",
    "    if(temp >= one_lb and temp < one_ub): prediction = 1\n",
    "    return prediction"
   ]
  },
  {
   "cell_type": "markdown",
   "metadata": {},
   "source": [
    "Dado que tenemos que poder medir la capacidad de nuestro modelo de identificar correctamente ceros y unos, también tengamos a mano una forma de extraer tablas de contingencia que automaticen el proceso. "
   ]
  },
  {
   "cell_type": "code",
   "execution_count": 10,
   "metadata": {},
   "outputs": [],
   "source": [
    "def make_contingency_table(y, y_hat):\n",
    "    \"\"\"Simple contingency table to record true positive, false negative, false positive,\n",
    "    and true negative results of a classification model. Return everything neatly\n",
    "    packaged as a dataframe ready for print.\n",
    "\n",
    "    :parameter y_hat\n",
    "    :parameter y\n",
    "\n",
    "    :return df\n",
    "    \"\"\"\n",
    "    tp, fn, fp, tn = 0,0,0,0\n",
    "    for i in range(1, len(y)):\n",
    "        if(y[i] == 1 and y_hat[i] == 1): tp = tp + 1\n",
    "        if(y[i] == 0 and y_hat[i] == 1): fp = fp + 1\n",
    "        if(y[i] == 1 and y_hat[i] == 0): fn = fn + 1\n",
    "        if(y[i] == 0 and y_hat[i] == 0): tn = tn + 1\n",
    "    dat = {'Positive': [tp, fp], 'Negative': [fn, tn]}\n",
    "    df = pd.DataFrame(dat, columns=['Positive', 'Negative'], index=['Positive', 'Negative'])\n",
    "    return(df)"
   ]
  },
  {
   "cell_type": "markdown",
   "metadata": {},
   "source": [
    "Ahora con todos los elementos listos, creamos un lote de ejecución que itera por todo el juego de datos, y trata de clasificar ceros de unos. Por el momento ignoramos todo lo demás, ya que no agrega al caso."
   ]
  },
  {
   "cell_type": "code",
   "execution_count": 11,
   "metadata": {},
   "outputs": [
    {
     "name": "stdout",
     "output_type": "stream",
     "text": [
      "Contingency Table Classifier\n",
      "\n",
      "          Positive  Negative\n",
      "Positive      7803        74\n",
      "Negative       565      6313\n",
      "AUC Score for Model:  0.9509181262225417\n"
     ]
    }
   ],
   "source": [
    "# Create a test of all cases with 1 and 0 with classifier\n",
    "pred_value = []\n",
    "real_value = []\n",
    "for i in range(1, len(image_class)):\n",
    "    if (image_class.iloc[i] == 1 or image_class.iloc[i] == 0):\n",
    "        real_value.append(image_class[i])\n",
    "        temp = transform_clean_format(image_set.iloc[i])\n",
    "        temp = density_classifier(temp)\n",
    "        pred_value.append(temp)\n",
    "\n",
    "print(\"Contingency Table Classifier\\n\")\n",
    "print(make_contingency_table(real_value, pred_value))\n",
    "\n",
    "# calculate auc scores\n",
    "lr_auc = roc_auc_score(real_value, pred_value)\n",
    "print(\"AUC Score for Model: \", lr_auc)\n",
    "\n",
    "# calculate roc curves\n",
    "lr_fpr, lr_tpr, _ = roc_curve(real_value, pred_value)"
   ]
  },
  {
   "cell_type": "markdown",
   "metadata": {},
   "source": [
    "Nuestro modelo sencillo funcionó muy bien. Detectó 7,803 casos positivos (que eran 1) y solo 74 casos falsos positivos. A la vez clasificó correctamente 6,313 casos negativos (que eran 0) y solo 565 falsos negativos. El valor estimado de la AUC es de 0.95, ¡nada mal!"
   ]
  },
  {
   "cell_type": "markdown",
   "metadata": {},
   "source": [
    "> Las porciones sobre curvas ROC y AUC fueron citadas de \"How to Use ROC Curves and Precision-Recall Curves for Classification in Python\", por Jason Brownlee (Agosto 31, 2018). El tutorial esta disponible en https://machinelearningmastery.com/roc-curves-and-precision-recall-curves-for-classification-in-python/"
   ]
  },
  {
   "cell_type": "markdown",
   "metadata": {},
   "source": [
    "## Visualización de Curvas ROC y AUC\n",
    "Para poder visualizar la curva ROC, debemos por lo menos obtener los resultados de un punto más, el modelo __no skill__ que compara todo contra la probabilidad de 0.50. Comencemos por crear dicho modelo, sino no lo podemos llamar desde el bloque. "
   ]
  },
  {
   "cell_type": "code",
   "execution_count": 12,
   "metadata": {},
   "outputs": [],
   "source": [
    "def dumb_classifier(image):\n",
    "    \"\"\"Dumb classifier for base case of n = 0.5\n",
    "\n",
    "    :parameter image\n",
    "\n",
    "    :return prediction\n",
    "    \"\"\"\n",
    "\n",
    "    temp = calculate_horizontal_density(image)\n",
    "    prediction = 9\n",
    "    if(temp >= 0.5): prediction = 0\n",
    "    if(temp <  0.5): prediction = 1\n",
    "    return prediction"
   ]
  },
  {
   "cell_type": "markdown",
   "metadata": {},
   "source": [
    "Ahora que está creado, hagamos un bloque de prueba y veamos como queda la tabla de contingencia. "
   ]
  },
  {
   "cell_type": "code",
   "execution_count": 13,
   "metadata": {},
   "outputs": [
    {
     "name": "stdout",
     "output_type": "stream",
     "text": [
      "Contingency Table Classifier No-Skill Classifier\n",
      "\n",
      "          Positive  Negative\n",
      "Positive      7877         0\n",
      "Negative      6902         0\n",
      "AUC Score for Model:  0.5\n"
     ]
    }
   ],
   "source": [
    "# Create a test of all cases with 1 and 0 with no-skill classifier\n",
    "pred_value = []\n",
    "real_value = []\n",
    "for i in range(1, len(image_class)):\n",
    "    if (image_class.iloc[i] == 1 or image_class.iloc[i] == 0):\n",
    "        real_value.append(image_class[i])\n",
    "        temp = transform_clean_format(image_set.iloc[i])\n",
    "        temp = dumb_classifier(temp)\n",
    "        pred_value.append(temp)\n",
    "\n",
    "print(\"Contingency Table Classifier No-Skill Classifier\\n\")\n",
    "print(make_contingency_table(real_value, pred_value))\n",
    "\n",
    "# calculate auc scores\n",
    "ns_auc = roc_auc_score(real_value, pred_value)\n",
    "print(\"AUC Score for Model: \", ns_auc)\n",
    "\n",
    "# calculate roc curves\n",
    "ns_fpr, ns_tpr, _ = roc_curve(real_value, pred_value)"
   ]
  },
  {
   "cell_type": "markdown",
   "metadata": {},
   "source": [
    "Nada especial con los resultados aquí. Nuestro modelo heurístico no es una probabilidad, por lo que el modelo __no skill__ simplemente clasificó todo lo que es mayor a 0.5 como 0 y todo lo menor que 0.5 como 1. Por lo tanto no clasificó nada como negativo (ningún valor de la lectura de densidad de la matriz de 28 x 28 pixeles es mayor a 0.50 en nuestro caso). El AUC nos da 0.5, que no nos debe extrañar ya que es justamente la recta de 45 grados. Lo único bueno de esto es que podemos ahora comparar los dos para una gráfica de AUC.\n",
    "\n",
    "No hemos hecho la gráfica a mano, sino que utilizamos las funciones de __SciKit__ `roc_curve` para tal fin. Solo pasamos los juegos de datos con los valores reales y los valores de predicción, y la función nos devuelve de forma automática el valor FALSE POSITIVE RATE y TRUE POSITIVE RATE."
   ]
  },
  {
   "cell_type": "code",
   "execution_count": 14,
   "metadata": {},
   "outputs": [
    {
     "data": {
      "image/png": "[encoded data removed]",
      "text/plain": [
       "<Figure size 432x288 with 1 Axes>"
      ]
     },
     "metadata": {
      "needs_background": "light"
     },
     "output_type": "display_data"
    }
   ],
   "source": [
    "pyplot.plot(ns_fpr, ns_tpr, linestyle='--', label='No Skill')\n",
    "pyplot.plot(lr_fpr, lr_tpr, marker='.', label='Heuristic')\n",
    "pyplot.xlabel('False Positive Rate')\n",
    "pyplot.ylabel('True Positive Rate')\n",
    "pyplot.legend()\n",
    "pyplot.show()"
   ]
  },
  {
   "cell_type": "markdown",
   "metadata": {},
   "source": [
    "## Un Modelo Alterno\n",
    "Para terminar el caso práctico se pide crear otro modelo de clasificación para los dígitos cero y uno basado en la cantidad de tinta utilizada en cada imagen, y compararlo con el primer modelo.\n",
    "\n",
    "En el primer problema transformabamos cada imagen en una matriz de 28 X 28 con ceros o unos, eliminando el valor del pixel. Para este modelo, mantengamos el valor del pixel como el valor original del pixel y veamos como se ve. "
   ]
  },
  {
   "cell_type": "code",
   "execution_count": 25,
   "metadata": {},
   "outputs": [],
   "source": [
    "def transform_ink_format(image_set_instance):\n",
    "    \"\"\"Transform an image to a CLEAN_FORMAT, which is an image of 28x28 with real pixel\n",
    "    value. This simplifies calculating heuristics when reading ink levels.\n",
    "\n",
    "    :parameter image_set_instance\n",
    "\n",
    "    :return image_clean_format\n",
    "    \"\"\"\n",
    "    temp = image_set_instance.to_list()\n",
    "    image_clean_format: ndarray = np.reshape(temp, (28, 28))\n",
    "    return image_clean_format"
   ]
  },
  {
   "cell_type": "markdown",
   "metadata": {},
   "source": [
    "Esta vez, en vez de densidad de pixeles (menos igual un 1, más igual un 0) estamos evaluando la tinta que se usa. Para construir un modelo debieramos correr todo el juego y obtener valores promedios de tinta para cada dígito. Necesitamos entonces una función adicional (que calcule el uso de tinta) y un pequeño _script_ que ejecute el lote."
   ]
  },
  {
   "cell_type": "code",
   "execution_count": 16,
   "metadata": {},
   "outputs": [],
   "source": [
    "def calculate_ink_density(some_image_matrix):\n",
    "    \"\"\"Calculate the average pixel ink density for the 28 rows in an image matrix\n",
    "    :parameter\n",
    "    some_image_matrix\n",
    "\n",
    "    :return\n",
    "    row_density_counter\n",
    "    \"\"\"\n",
    "    row_ink_density_counter = []\n",
    "    for rows in some_image_matrix:\n",
    "        temp = sum(rows)/len(rows)\n",
    "        row_ink_density_counter.append(temp)\n",
    "    return np.mean(row_ink_density_counter)\n",
    "\n"
   ]
  },
  {
   "cell_type": "markdown",
   "metadata": {},
   "source": [
    "Automaticemos el proceso de calcular la densidad de tinta como hicimos con el primer ejemplo."
   ]
  },
  {
   "cell_type": "code",
   "execution_count": 17,
   "metadata": {},
   "outputs": [
    {
     "name": "stdout",
     "output_type": "stream",
     "text": [
      "Begin evaluation of images with class 1.\n",
      "Class Average Horizontal Density:  19.40680177110834\n",
      "Class SD Horizontal Density:  5.652097783811537\n",
      "Class Occurrences:  7877 \n",
      "\n",
      "Begin evaluation of images with class 0.\n",
      "Class Average Horizontal Density:  44.17740512110972\n",
      "Class SD Horizontal Density:  10.788824931073156\n",
      "Class Occurrences:  6903 \n",
      "\n"
     ]
    }
   ],
   "source": [
    "def get_class_average_ink_density(image_set, class_set, target):\n",
    "    \"\"\"Get a target class, evaluate all elements, and return average\n",
    "    ink density of row for that class\n",
    "\n",
    "    :parameter image_set\n",
    "    :parameter class_set\n",
    "    :parameter target\n",
    "\n",
    "    :return class_average_horizontal_density_list MEAN\n",
    "    :return class_average_horizontal_density_list SD\n",
    "    :return counter_evaluation\n",
    "    \"\"\"\n",
    "    class_average_ink_density_list = []\n",
    "    counter_evaluation = 0\n",
    "\n",
    "    for i in range(1, len(image_set)):\n",
    "        if (class_set[i] == target):\n",
    "            reduced_image_set = transform_ink_format(image_set.iloc[i])\n",
    "            temp = calculate_ink_density(reduced_image_set)\n",
    "            class_average_ink_density_list.append(temp)\n",
    "            counter_evaluation = counter_evaluation + 1\n",
    "\n",
    "    return(np.mean(class_average_ink_density_list), np.std(class_average_ink_density_list), counter_evaluation)\n",
    "\n",
    "# Evaluate average horizontal density for images of 0 and 1\n",
    "print(\"Begin evaluation of images with class 1.\")\n",
    "results_1 = get_class_average_ink_density(image_set, image_class, 1)\n",
    "print(\"Class Average Horizontal Density: \", results_1[0])\n",
    "print(\"Class SD Horizontal Density: \", results_1[1])\n",
    "print(\"Class Occurrences: \", results_1[2], \"\\n\")\n",
    "\n",
    "print(\"Begin evaluation of images with class 0.\")\n",
    "results_2 = get_class_average_ink_density(image_set, image_class, 0)\n",
    "print(\"Class Average Horizontal Density: \", results_2[0])\n",
    "print(\"Class SD Horizontal Density: \", results_2[1])\n",
    "print(\"Class Occurrences: \", results_2[2], \"\\n\")"
   ]
  },
  {
   "cell_type": "markdown",
   "metadata": {},
   "source": [
    "Con estos datos ya podemos programar un modelo heurístico que defina en base a la cantidad de tinta si la imagen es un uno o un cero."
   ]
  },
  {
   "cell_type": "code",
   "execution_count": 19,
   "metadata": {},
   "outputs": [],
   "source": [
    "def ink_classifier(image):\n",
    "    \"\"\"Simple classification model that analyzes if ink usage of an image\n",
    "    belongs to that trained for zeroes or ones. Function assumes that information in\n",
    "    image is either one or zero, not any other number.\n",
    "\n",
    "    :parameter image\n",
    "\n",
    "    :return prediction\n",
    "    \"\"\"\n",
    "\n",
    "    # Model parameters for ZERO classification\n",
    "    zero_mean = 44.17740512110972\n",
    "    zero_sd = 10.788824931073156\n",
    "    zero_ub = zero_mean + (3 * zero_sd)\n",
    "    zero_lb = zero_mean - (3 * zero_sd)\n",
    "\n",
    "    # Model parameters for ONE classification\n",
    "    one_mean = 19.40680177110834\n",
    "    one_sd = 5.652097783811537\n",
    "    one_ub = one_mean + (3 * one_sd)\n",
    "    one_lb = one_mean - (3 * one_sd)\n",
    "\n",
    "    temp = calculate_horizontal_density(image)\n",
    "    prediction = 9\n",
    "    if(temp >= zero_lb and temp < zero_ub): prediction = 0\n",
    "    if(temp >= one_lb and temp < one_ub): prediction = 1\n",
    "    return prediction"
   ]
  },
  {
   "cell_type": "markdown",
   "metadata": {},
   "source": [
    "Finalmente, pongamos el modelo bajo escrutinio."
   ]
  },
  {
   "cell_type": "code",
   "execution_count": 22,
   "metadata": {},
   "outputs": [
    {
     "name": "stdout",
     "output_type": "stream",
     "text": [
      "Contingency Table Classifier\n",
      "\n",
      "          Positive  Negative\n",
      "Positive      7797        80\n",
      "Negative      1685      5187\n",
      "AUC Score for Model:  0.8685496722745267\n"
     ]
    }
   ],
   "source": [
    "# Create a test of all cases with 1 and 0 with ink classifier\n",
    "pred_value = []\n",
    "real_value = []\n",
    "for i in range(1, len(image_class)):\n",
    "    if (image_class.iloc[i] == 1 or image_class.iloc[i] == 0):\n",
    "        real_value.append(image_class[i])\n",
    "        temp = transform_ink_format(image_set.iloc[i])\n",
    "        temp = ink_classifier(temp)\n",
    "        pred_value.append(temp)\n",
    "\n",
    "print(\"Contingency Table Classifier\\n\")\n",
    "print(make_contingency_table(real_value, pred_value))\n",
    "\n",
    "# calculate auc scores\n",
    "ink_auc = roc_auc_score(real_value, pred_value)\n",
    "print(\"AUC Score for Model: \", ink_auc)\n",
    "\n",
    "# calculate roc curves\n",
    "ink_fpr, ink_tpr, _ = roc_curve(real_value, pred_value)"
   ]
  },
  {
   "cell_type": "markdown",
   "metadata": {},
   "source": [
    "El valor de AUC del modelo de tinta es 0.8685496722745267, inferior al modelo más sencillo de matriz por densidad de 0.9509181262225417. Podemos ahora visualizar la curva ROC."
   ]
  },
  {
   "cell_type": "code",
   "execution_count": 24,
   "metadata": {},
   "outputs": [
    {
     "data": {
      "image/png": "[encoded data removed]",
      "text/plain": [
       "<Figure size 432x288 with 1 Axes>"
      ]
     },
     "metadata": {
      "needs_background": "light"
     },
     "output_type": "display_data"
    }
   ],
   "source": [
    "pyplot.plot(ns_fpr, ns_tpr, linestyle='--', label='No Skill')\n",
    "pyplot.plot(lr_fpr, lr_tpr, marker='.', label='Heuristic')\n",
    "pyplot.plot(ink_fpr, ink_tpr, marker='*', label='Ink Usage')\n",
    "pyplot.xlabel('False Positive Rate')\n",
    "pyplot.ylabel('True Positive Rate')\n",
    "pyplot.legend()\n",
    "pyplot.show()"
   ]
  }
 ],
 "metadata": {
  "kernelspec": {
   "display_name": "Python 3",
   "language": "python",
   "name": "python3"
  },
  "language_info": {
   "codemirror_mode": {
    "name": "ipython",
    "version": 3
   },
   "file_extension": ".py",
   "mimetype": "text/x-python",
   "name": "python",
   "nbconvert_exporter": "python",
   "pygments_lexer": "ipython3",
   "version": "3.7.6"
  }
 },
 "nbformat": 4,
 "nbformat_minor": 4
}
