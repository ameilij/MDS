{
 "cells": [
  {
   "cell_type": "markdown",
   "metadata": {},
   "source": [
    "**UNIDAD 7**\n",
    "### La Ciencia de Datos: Análisis, Minería y Visualización de Datos\n",
    "## Caso Práctico Unidad 7"
   ]
  },
  {
   "cell_type": "markdown",
   "metadata": {},
   "source": [
    "# Introducción\n",
    "Gran parte de la actividad financiera se basa en la relación entre dos conceptos fundamentales: la rentabilidad y el riesgo. Ambos son conceptos muy susceptibles de ser tratados de manera científica y, para ambos, se genera constantemente gran cantidad de datos, así que no es sorprendente que la ciencia de datos tenga mucho que decir, desde hace mucho tiempo, en este campo.\n",
    "\n",
    "En este caso, se analiza un ejemplo del mercado bancario: la estimación del riesgo de impago de créditos.\n",
    "\n",
    "Para ello, se proporciona un conjunto de datos demográficos y económicos de mil clientes bancarios, y un indicador de si dejaron deudas impagadas. Se trata de datos sobre un banco alemán en 1994, y la fuente original es UCI Machine Learning Repository del School of Information and Computer Science, de la Universidad de California.\n",
    "\n",
    "Estos datos se proporcionan para su acceso local en `credit_g.csv`.\n",
    "\n",
    "Como parte del conjunto de datos, se proporciona una tabla de coste (la idea es que el error de considerar como bueno a un cliente que finalmente no paga su crédito es mucho más costoso que el de considerar malo a un cliente que sí lo pagaría: en el primer caso, el banco puede perder todo lo prestado, mientras que en el segundo, solo se pierde el margen que habría generado ese préstamo):\n",
    "\n",
    "![](CPresumen1.png)"
   ]
  },
  {
   "cell_type": "markdown",
   "metadata": {},
   "source": [
    "Para el siguiente caso práctico, se solicitan los siguientes:\n",
    "\n",
    "1. Cargar los datos y realizar un análisis exploratorio y una evaluación de la calidad de los datos necesarios para el resto del caso.\n",
    "2. Analizar, con la ayuda de visualizaciones, cuáles de las variables proporcionadas tienen más impacto en la probabilidad de impago.\n",
    "3. Basándose en los resultados del punto anterior, elaborar criterios sencillos de decisión sobre si conceder el crédito que solicita el cliente o no.\n",
    "4. Valorar el coste de los errores cometidos siguiendo esos modelos, según la tabla de coste proporcionada."
   ]
  },
  {
   "cell_type": "markdown",
   "metadata": {},
   "source": [
    "# Análisis del Archivo de Datos"
   ]
  },
  {
   "cell_type": "markdown",
   "metadata": {},
   "source": [
    "Comenzaremos por lo más sencillo que es cargar los datos en memoria y revisar. "
   ]
  },
  {
   "cell_type": "code",
   "execution_count": 1,
   "metadata": {},
   "outputs": [
    {
     "data": {
      "text/html": [
       "<div>\n",
       "<style scoped>\n",
       "    .dataframe tbody tr th:only-of-type {\n",
       "        vertical-align: middle;\n",
       "    }\n",
       "\n",
       "    .dataframe tbody tr th {\n",
       "        vertical-align: top;\n",
       "    }\n",
       "\n",
       "    .dataframe thead th {\n",
       "        text-align: right;\n",
       "    }\n",
       "</style>\n",
       "<table border=\"1\" class=\"dataframe\">\n",
       "  <thead>\n",
       "    <tr style=\"text-align: right;\">\n",
       "      <th></th>\n",
       "      <th>duration</th>\n",
       "      <th>credit_amount</th>\n",
       "      <th>installment_commitment</th>\n",
       "      <th>residence_since</th>\n",
       "      <th>age</th>\n",
       "      <th>existing_credits</th>\n",
       "      <th>num_dependents</th>\n",
       "    </tr>\n",
       "  </thead>\n",
       "  <tbody>\n",
       "    <tr>\n",
       "      <th>count</th>\n",
       "      <td>1000.000000</td>\n",
       "      <td>1000.000000</td>\n",
       "      <td>1000.000000</td>\n",
       "      <td>1000.000000</td>\n",
       "      <td>1000.000000</td>\n",
       "      <td>1000.000000</td>\n",
       "      <td>1000.000000</td>\n",
       "    </tr>\n",
       "    <tr>\n",
       "      <th>mean</th>\n",
       "      <td>20.903000</td>\n",
       "      <td>3271.258000</td>\n",
       "      <td>2.973000</td>\n",
       "      <td>2.845000</td>\n",
       "      <td>35.546000</td>\n",
       "      <td>1.407000</td>\n",
       "      <td>1.155000</td>\n",
       "    </tr>\n",
       "    <tr>\n",
       "      <th>std</th>\n",
       "      <td>12.058814</td>\n",
       "      <td>2822.736876</td>\n",
       "      <td>1.118715</td>\n",
       "      <td>1.103718</td>\n",
       "      <td>11.375469</td>\n",
       "      <td>0.577654</td>\n",
       "      <td>0.362086</td>\n",
       "    </tr>\n",
       "    <tr>\n",
       "      <th>min</th>\n",
       "      <td>4.000000</td>\n",
       "      <td>250.000000</td>\n",
       "      <td>1.000000</td>\n",
       "      <td>1.000000</td>\n",
       "      <td>19.000000</td>\n",
       "      <td>1.000000</td>\n",
       "      <td>1.000000</td>\n",
       "    </tr>\n",
       "    <tr>\n",
       "      <th>25%</th>\n",
       "      <td>12.000000</td>\n",
       "      <td>1365.500000</td>\n",
       "      <td>2.000000</td>\n",
       "      <td>2.000000</td>\n",
       "      <td>27.000000</td>\n",
       "      <td>1.000000</td>\n",
       "      <td>1.000000</td>\n",
       "    </tr>\n",
       "    <tr>\n",
       "      <th>50%</th>\n",
       "      <td>18.000000</td>\n",
       "      <td>2319.500000</td>\n",
       "      <td>3.000000</td>\n",
       "      <td>3.000000</td>\n",
       "      <td>33.000000</td>\n",
       "      <td>1.000000</td>\n",
       "      <td>1.000000</td>\n",
       "    </tr>\n",
       "    <tr>\n",
       "      <th>75%</th>\n",
       "      <td>24.000000</td>\n",
       "      <td>3972.250000</td>\n",
       "      <td>4.000000</td>\n",
       "      <td>4.000000</td>\n",
       "      <td>42.000000</td>\n",
       "      <td>2.000000</td>\n",
       "      <td>1.000000</td>\n",
       "    </tr>\n",
       "    <tr>\n",
       "      <th>max</th>\n",
       "      <td>72.000000</td>\n",
       "      <td>18424.000000</td>\n",
       "      <td>4.000000</td>\n",
       "      <td>4.000000</td>\n",
       "      <td>75.000000</td>\n",
       "      <td>4.000000</td>\n",
       "      <td>2.000000</td>\n",
       "    </tr>\n",
       "  </tbody>\n",
       "</table>\n",
       "</div>"
      ],
      "text/plain": [
       "          duration  credit_amount  installment_commitment  residence_since  \\\n",
       "count  1000.000000    1000.000000             1000.000000      1000.000000   \n",
       "mean     20.903000    3271.258000                2.973000         2.845000   \n",
       "std      12.058814    2822.736876                1.118715         1.103718   \n",
       "min       4.000000     250.000000                1.000000         1.000000   \n",
       "25%      12.000000    1365.500000                2.000000         2.000000   \n",
       "50%      18.000000    2319.500000                3.000000         3.000000   \n",
       "75%      24.000000    3972.250000                4.000000         4.000000   \n",
       "max      72.000000   18424.000000                4.000000         4.000000   \n",
       "\n",
       "               age  existing_credits  num_dependents  \n",
       "count  1000.000000       1000.000000     1000.000000  \n",
       "mean     35.546000          1.407000        1.155000  \n",
       "std      11.375469          0.577654        0.362086  \n",
       "min      19.000000          1.000000        1.000000  \n",
       "25%      27.000000          1.000000        1.000000  \n",
       "50%      33.000000          1.000000        1.000000  \n",
       "75%      42.000000          2.000000        1.000000  \n",
       "max      75.000000          4.000000        2.000000  "
      ]
     },
     "execution_count": 1,
     "metadata": {},
     "output_type": "execute_result"
    }
   ],
   "source": [
    "# Leer datos como df\n",
    "import pandas as pd\n",
    "import numpy as np\n",
    "creditos = pd.read_csv(\"credit-g.csv\")\n",
    "creditos.describe()"
   ]
  },
  {
   "cell_type": "markdown",
   "metadata": {},
   "source": [
    "Leer el sumario de los datos nos da algunas pistas de la estructura de los mismos. Pero no nos cuenta la historia completa. Veamos unos 10 movimientos para entender como funciona. "
   ]
  },
  {
   "cell_type": "code",
   "execution_count": 2,
   "metadata": {},
   "outputs": [
    {
     "data": {
      "text/html": [
       "<div>\n",
       "<style scoped>\n",
       "    .dataframe tbody tr th:only-of-type {\n",
       "        vertical-align: middle;\n",
       "    }\n",
       "\n",
       "    .dataframe tbody tr th {\n",
       "        vertical-align: top;\n",
       "    }\n",
       "\n",
       "    .dataframe thead th {\n",
       "        text-align: right;\n",
       "    }\n",
       "</style>\n",
       "<table border=\"1\" class=\"dataframe\">\n",
       "  <thead>\n",
       "    <tr style=\"text-align: right;\">\n",
       "      <th></th>\n",
       "      <th>checking_status</th>\n",
       "      <th>duration</th>\n",
       "      <th>credit_history</th>\n",
       "      <th>purpose</th>\n",
       "      <th>credit_amount</th>\n",
       "      <th>savings_status</th>\n",
       "      <th>employment</th>\n",
       "      <th>installment_commitment</th>\n",
       "      <th>personal_status</th>\n",
       "      <th>other_parties</th>\n",
       "      <th>...</th>\n",
       "      <th>property_magnitude</th>\n",
       "      <th>age</th>\n",
       "      <th>other_payment_plans</th>\n",
       "      <th>housing</th>\n",
       "      <th>existing_credits</th>\n",
       "      <th>job</th>\n",
       "      <th>num_dependents</th>\n",
       "      <th>own_telephone</th>\n",
       "      <th>foreign_worker</th>\n",
       "      <th>class</th>\n",
       "    </tr>\n",
       "  </thead>\n",
       "  <tbody>\n",
       "    <tr>\n",
       "      <th>0</th>\n",
       "      <td>'&lt;0'</td>\n",
       "      <td>6</td>\n",
       "      <td>'critical/other existing credit'</td>\n",
       "      <td>radio/tv</td>\n",
       "      <td>1169</td>\n",
       "      <td>'no known savings'</td>\n",
       "      <td>'&gt;=7'</td>\n",
       "      <td>4</td>\n",
       "      <td>'male single'</td>\n",
       "      <td>none</td>\n",
       "      <td>...</td>\n",
       "      <td>'real estate'</td>\n",
       "      <td>67</td>\n",
       "      <td>none</td>\n",
       "      <td>own</td>\n",
       "      <td>2</td>\n",
       "      <td>skilled</td>\n",
       "      <td>1</td>\n",
       "      <td>yes</td>\n",
       "      <td>yes</td>\n",
       "      <td>good</td>\n",
       "    </tr>\n",
       "    <tr>\n",
       "      <th>1</th>\n",
       "      <td>'0&lt;=X&lt;200'</td>\n",
       "      <td>48</td>\n",
       "      <td>'existing paid'</td>\n",
       "      <td>radio/tv</td>\n",
       "      <td>5951</td>\n",
       "      <td>'&lt;100'</td>\n",
       "      <td>'1&lt;=X&lt;4'</td>\n",
       "      <td>2</td>\n",
       "      <td>'female div/dep/mar'</td>\n",
       "      <td>none</td>\n",
       "      <td>...</td>\n",
       "      <td>'real estate'</td>\n",
       "      <td>22</td>\n",
       "      <td>none</td>\n",
       "      <td>own</td>\n",
       "      <td>1</td>\n",
       "      <td>skilled</td>\n",
       "      <td>1</td>\n",
       "      <td>none</td>\n",
       "      <td>yes</td>\n",
       "      <td>bad</td>\n",
       "    </tr>\n",
       "    <tr>\n",
       "      <th>2</th>\n",
       "      <td>'no checking'</td>\n",
       "      <td>12</td>\n",
       "      <td>'critical/other existing credit'</td>\n",
       "      <td>education</td>\n",
       "      <td>2096</td>\n",
       "      <td>'&lt;100'</td>\n",
       "      <td>'4&lt;=X&lt;7'</td>\n",
       "      <td>2</td>\n",
       "      <td>'male single'</td>\n",
       "      <td>none</td>\n",
       "      <td>...</td>\n",
       "      <td>'real estate'</td>\n",
       "      <td>49</td>\n",
       "      <td>none</td>\n",
       "      <td>own</td>\n",
       "      <td>1</td>\n",
       "      <td>'unskilled resident'</td>\n",
       "      <td>2</td>\n",
       "      <td>none</td>\n",
       "      <td>yes</td>\n",
       "      <td>good</td>\n",
       "    </tr>\n",
       "    <tr>\n",
       "      <th>3</th>\n",
       "      <td>'&lt;0'</td>\n",
       "      <td>42</td>\n",
       "      <td>'existing paid'</td>\n",
       "      <td>furniture/equipment</td>\n",
       "      <td>7882</td>\n",
       "      <td>'&lt;100'</td>\n",
       "      <td>'4&lt;=X&lt;7'</td>\n",
       "      <td>2</td>\n",
       "      <td>'male single'</td>\n",
       "      <td>guarantor</td>\n",
       "      <td>...</td>\n",
       "      <td>'life insurance'</td>\n",
       "      <td>45</td>\n",
       "      <td>none</td>\n",
       "      <td>'for free'</td>\n",
       "      <td>1</td>\n",
       "      <td>skilled</td>\n",
       "      <td>2</td>\n",
       "      <td>none</td>\n",
       "      <td>yes</td>\n",
       "      <td>good</td>\n",
       "    </tr>\n",
       "    <tr>\n",
       "      <th>4</th>\n",
       "      <td>'&lt;0'</td>\n",
       "      <td>24</td>\n",
       "      <td>'delayed previously'</td>\n",
       "      <td>'new car'</td>\n",
       "      <td>4870</td>\n",
       "      <td>'&lt;100'</td>\n",
       "      <td>'1&lt;=X&lt;4'</td>\n",
       "      <td>3</td>\n",
       "      <td>'male single'</td>\n",
       "      <td>none</td>\n",
       "      <td>...</td>\n",
       "      <td>'no known property'</td>\n",
       "      <td>53</td>\n",
       "      <td>none</td>\n",
       "      <td>'for free'</td>\n",
       "      <td>2</td>\n",
       "      <td>skilled</td>\n",
       "      <td>2</td>\n",
       "      <td>none</td>\n",
       "      <td>yes</td>\n",
       "      <td>bad</td>\n",
       "    </tr>\n",
       "    <tr>\n",
       "      <th>5</th>\n",
       "      <td>'no checking'</td>\n",
       "      <td>36</td>\n",
       "      <td>'existing paid'</td>\n",
       "      <td>education</td>\n",
       "      <td>9055</td>\n",
       "      <td>'no known savings'</td>\n",
       "      <td>'1&lt;=X&lt;4'</td>\n",
       "      <td>2</td>\n",
       "      <td>'male single'</td>\n",
       "      <td>none</td>\n",
       "      <td>...</td>\n",
       "      <td>'no known property'</td>\n",
       "      <td>35</td>\n",
       "      <td>none</td>\n",
       "      <td>'for free'</td>\n",
       "      <td>1</td>\n",
       "      <td>'unskilled resident'</td>\n",
       "      <td>2</td>\n",
       "      <td>yes</td>\n",
       "      <td>yes</td>\n",
       "      <td>good</td>\n",
       "    </tr>\n",
       "    <tr>\n",
       "      <th>6</th>\n",
       "      <td>'no checking'</td>\n",
       "      <td>24</td>\n",
       "      <td>'existing paid'</td>\n",
       "      <td>furniture/equipment</td>\n",
       "      <td>2835</td>\n",
       "      <td>'500&lt;=X&lt;1000'</td>\n",
       "      <td>'&gt;=7'</td>\n",
       "      <td>3</td>\n",
       "      <td>'male single'</td>\n",
       "      <td>none</td>\n",
       "      <td>...</td>\n",
       "      <td>'life insurance'</td>\n",
       "      <td>53</td>\n",
       "      <td>none</td>\n",
       "      <td>own</td>\n",
       "      <td>1</td>\n",
       "      <td>skilled</td>\n",
       "      <td>1</td>\n",
       "      <td>none</td>\n",
       "      <td>yes</td>\n",
       "      <td>good</td>\n",
       "    </tr>\n",
       "    <tr>\n",
       "      <th>7</th>\n",
       "      <td>'0&lt;=X&lt;200'</td>\n",
       "      <td>36</td>\n",
       "      <td>'existing paid'</td>\n",
       "      <td>'used car'</td>\n",
       "      <td>6948</td>\n",
       "      <td>'&lt;100'</td>\n",
       "      <td>'1&lt;=X&lt;4'</td>\n",
       "      <td>2</td>\n",
       "      <td>'male single'</td>\n",
       "      <td>none</td>\n",
       "      <td>...</td>\n",
       "      <td>car</td>\n",
       "      <td>35</td>\n",
       "      <td>none</td>\n",
       "      <td>rent</td>\n",
       "      <td>1</td>\n",
       "      <td>'high qualif/self emp/mgmt'</td>\n",
       "      <td>1</td>\n",
       "      <td>yes</td>\n",
       "      <td>yes</td>\n",
       "      <td>good</td>\n",
       "    </tr>\n",
       "    <tr>\n",
       "      <th>8</th>\n",
       "      <td>'no checking'</td>\n",
       "      <td>12</td>\n",
       "      <td>'existing paid'</td>\n",
       "      <td>radio/tv</td>\n",
       "      <td>3059</td>\n",
       "      <td>'&gt;=1000'</td>\n",
       "      <td>'4&lt;=X&lt;7'</td>\n",
       "      <td>2</td>\n",
       "      <td>'male div/sep'</td>\n",
       "      <td>none</td>\n",
       "      <td>...</td>\n",
       "      <td>'real estate'</td>\n",
       "      <td>61</td>\n",
       "      <td>none</td>\n",
       "      <td>own</td>\n",
       "      <td>1</td>\n",
       "      <td>'unskilled resident'</td>\n",
       "      <td>1</td>\n",
       "      <td>none</td>\n",
       "      <td>yes</td>\n",
       "      <td>good</td>\n",
       "    </tr>\n",
       "    <tr>\n",
       "      <th>9</th>\n",
       "      <td>'0&lt;=X&lt;200'</td>\n",
       "      <td>30</td>\n",
       "      <td>'critical/other existing credit'</td>\n",
       "      <td>'new car'</td>\n",
       "      <td>5234</td>\n",
       "      <td>'&lt;100'</td>\n",
       "      <td>unemployed</td>\n",
       "      <td>4</td>\n",
       "      <td>'male mar/wid'</td>\n",
       "      <td>none</td>\n",
       "      <td>...</td>\n",
       "      <td>car</td>\n",
       "      <td>28</td>\n",
       "      <td>none</td>\n",
       "      <td>own</td>\n",
       "      <td>2</td>\n",
       "      <td>'high qualif/self emp/mgmt'</td>\n",
       "      <td>1</td>\n",
       "      <td>none</td>\n",
       "      <td>yes</td>\n",
       "      <td>bad</td>\n",
       "    </tr>\n",
       "  </tbody>\n",
       "</table>\n",
       "<p>10 rows × 21 columns</p>\n",
       "</div>"
      ],
      "text/plain": [
       "  checking_status  duration                    credit_history  \\\n",
       "0            '<0'         6  'critical/other existing credit'   \n",
       "1      '0<=X<200'        48                   'existing paid'   \n",
       "2   'no checking'        12  'critical/other existing credit'   \n",
       "3            '<0'        42                   'existing paid'   \n",
       "4            '<0'        24              'delayed previously'   \n",
       "5   'no checking'        36                   'existing paid'   \n",
       "6   'no checking'        24                   'existing paid'   \n",
       "7      '0<=X<200'        36                   'existing paid'   \n",
       "8   'no checking'        12                   'existing paid'   \n",
       "9      '0<=X<200'        30  'critical/other existing credit'   \n",
       "\n",
       "               purpose  credit_amount      savings_status  employment  \\\n",
       "0             radio/tv           1169  'no known savings'       '>=7'   \n",
       "1             radio/tv           5951              '<100'    '1<=X<4'   \n",
       "2            education           2096              '<100'    '4<=X<7'   \n",
       "3  furniture/equipment           7882              '<100'    '4<=X<7'   \n",
       "4            'new car'           4870              '<100'    '1<=X<4'   \n",
       "5            education           9055  'no known savings'    '1<=X<4'   \n",
       "6  furniture/equipment           2835       '500<=X<1000'       '>=7'   \n",
       "7           'used car'           6948              '<100'    '1<=X<4'   \n",
       "8             radio/tv           3059            '>=1000'    '4<=X<7'   \n",
       "9            'new car'           5234              '<100'  unemployed   \n",
       "\n",
       "   installment_commitment       personal_status other_parties  ...  \\\n",
       "0                       4         'male single'          none  ...   \n",
       "1                       2  'female div/dep/mar'          none  ...   \n",
       "2                       2         'male single'          none  ...   \n",
       "3                       2         'male single'     guarantor  ...   \n",
       "4                       3         'male single'          none  ...   \n",
       "5                       2         'male single'          none  ...   \n",
       "6                       3         'male single'          none  ...   \n",
       "7                       2         'male single'          none  ...   \n",
       "8                       2        'male div/sep'          none  ...   \n",
       "9                       4        'male mar/wid'          none  ...   \n",
       "\n",
       "    property_magnitude age  other_payment_plans     housing existing_credits  \\\n",
       "0        'real estate'  67                 none         own                2   \n",
       "1        'real estate'  22                 none         own                1   \n",
       "2        'real estate'  49                 none         own                1   \n",
       "3     'life insurance'  45                 none  'for free'                1   \n",
       "4  'no known property'  53                 none  'for free'                2   \n",
       "5  'no known property'  35                 none  'for free'                1   \n",
       "6     'life insurance'  53                 none         own                1   \n",
       "7                  car  35                 none        rent                1   \n",
       "8        'real estate'  61                 none         own                1   \n",
       "9                  car  28                 none         own                2   \n",
       "\n",
       "                           job num_dependents  own_telephone foreign_worker  \\\n",
       "0                      skilled              1            yes            yes   \n",
       "1                      skilled              1           none            yes   \n",
       "2         'unskilled resident'              2           none            yes   \n",
       "3                      skilled              2           none            yes   \n",
       "4                      skilled              2           none            yes   \n",
       "5         'unskilled resident'              2            yes            yes   \n",
       "6                      skilled              1           none            yes   \n",
       "7  'high qualif/self emp/mgmt'              1            yes            yes   \n",
       "8         'unskilled resident'              1           none            yes   \n",
       "9  'high qualif/self emp/mgmt'              1           none            yes   \n",
       "\n",
       "  class  \n",
       "0  good  \n",
       "1   bad  \n",
       "2  good  \n",
       "3  good  \n",
       "4   bad  \n",
       "5  good  \n",
       "6  good  \n",
       "7  good  \n",
       "8  good  \n",
       "9   bad  \n",
       "\n",
       "[10 rows x 21 columns]"
      ]
     },
     "execution_count": 2,
     "metadata": {},
     "output_type": "execute_result"
    }
   ],
   "source": [
    "creditos.head(10)"
   ]
  },
  {
   "cell_type": "markdown",
   "metadata": {},
   "source": [
    "Obviamente hay muchas variables categóricas y no numéricas en el archivo y por eso no se ven en el reporte sumario. "
   ]
  },
  {
   "cell_type": "code",
   "execution_count": 3,
   "metadata": {},
   "outputs": [
    {
     "name": "stdout",
     "output_type": "stream",
     "text": [
      "<class 'pandas.core.frame.DataFrame'>\n",
      "RangeIndex: 1000 entries, 0 to 999\n",
      "Data columns (total 21 columns):\n",
      " #   Column                  Non-Null Count  Dtype \n",
      "---  ------                  --------------  ----- \n",
      " 0   checking_status         1000 non-null   object\n",
      " 1   duration                1000 non-null   int64 \n",
      " 2   credit_history          1000 non-null   object\n",
      " 3   purpose                 1000 non-null   object\n",
      " 4   credit_amount           1000 non-null   int64 \n",
      " 5   savings_status          1000 non-null   object\n",
      " 6   employment              1000 non-null   object\n",
      " 7   installment_commitment  1000 non-null   int64 \n",
      " 8   personal_status         1000 non-null   object\n",
      " 9   other_parties           1000 non-null   object\n",
      " 10  residence_since         1000 non-null   int64 \n",
      " 11  property_magnitude      1000 non-null   object\n",
      " 12  age                     1000 non-null   int64 \n",
      " 13  other_payment_plans     1000 non-null   object\n",
      " 14  housing                 1000 non-null   object\n",
      " 15  existing_credits        1000 non-null   int64 \n",
      " 16  job                     1000 non-null   object\n",
      " 17  num_dependents          1000 non-null   int64 \n",
      " 18  own_telephone           1000 non-null   object\n",
      " 19  foreign_worker          1000 non-null   object\n",
      " 20  class                   1000 non-null   object\n",
      "dtypes: int64(7), object(14)\n",
      "memory usage: 164.2+ KB\n"
     ]
    }
   ],
   "source": [
    "creditos.info()"
   ]
  },
  {
   "cell_type": "markdown",
   "metadata": {},
   "source": [
    "Analicemos un poco algunas de estas variables para determinar cómo influyen y cómo mejor utilizarlas para concluir una regla heurística que nos permita evaluar si un crédito es bueno o malo. Comencemos con la primera, `checking_status`. "
   ]
  },
  {
   "cell_type": "code",
   "execution_count": 4,
   "metadata": {},
   "outputs": [
    {
     "name": "stdout",
     "output_type": "stream",
     "text": [
      "[\"'<0'\" \"'0<=X<200'\" \"'no checking'\" \"'>=200'\"]\n"
     ]
    }
   ],
   "source": [
    "print(creditos.checking_status.unique())"
   ]
  },
  {
   "cell_type": "code",
   "execution_count": 5,
   "metadata": {},
   "outputs": [
    {
     "name": "stdout",
     "output_type": "stream",
     "text": [
      "[\"'critical/other existing credit'\" \"'existing paid'\"\n",
      " \"'delayed previously'\" \"'no credits/all paid'\" \"'all paid'\"]\n"
     ]
    }
   ],
   "source": [
    "print(creditos.credit_history.unique())"
   ]
  },
  {
   "cell_type": "markdown",
   "metadata": {},
   "source": [
    "Podemos ver que cada una de estas variables categóricas no tienen necesariamente un orden específico, y en algunas inclusive la información se repite. Lo ideal sería contar con alguna función que nos permita analizar una variable y determinar cuantos casos en cada ocasión tuvieron créditos que se pagaron y cuántos no. Esta función es totalmente explorativa, no necesitamos ninguna estructura especial, sino solo contar y reportar los datos por ahora. "
   ]
  },
  {
   "cell_type": "code",
   "execution_count": 6,
   "metadata": {},
   "outputs": [],
   "source": [
    "def analizar(variable):\n",
    "    instancias = creditos[variable].unique()\n",
    "    print(\"Ocurrencias Negativas de Variable\", variable)\n",
    "    print((len(variable) + 34)*\"¨\")\n",
    "    \n",
    "    for cosas in instancias:     \n",
    "        malos = creditos[(creditos[variable] == cosas) & (creditos['class'] == \"bad\")]\n",
    "        malos = malos['class'].value_counts()\n",
    "        malos = int(malos)\n",
    "        print(\"--> clase \", '{:>15}'.format(cosas), \" es igual a \", malos)\n",
    "        "
   ]
  },
  {
   "cell_type": "code",
   "execution_count": 7,
   "metadata": {},
   "outputs": [
    {
     "name": "stdout",
     "output_type": "stream",
     "text": [
      "Ocurrencias Negativas de Variable checking_status\n",
      "¨¨¨¨¨¨¨¨¨¨¨¨¨¨¨¨¨¨¨¨¨¨¨¨¨¨¨¨¨¨¨¨¨¨¨¨¨¨¨¨¨¨¨¨¨¨¨¨¨\n",
      "--> clase             '<0'  es igual a  135\n",
      "--> clase       '0<=X<200'  es igual a  105\n",
      "--> clase    'no checking'  es igual a  46\n",
      "--> clase          '>=200'  es igual a  14\n"
     ]
    }
   ],
   "source": [
    "analizar('checking_status')"
   ]
  },
  {
   "cell_type": "markdown",
   "metadata": {},
   "source": [
    "Antes de seguir avanzando, debemos establecer una barrera para saber que son muchos casos malos para atribuirle valor a nuestra fórmula heurística. Analicemos cuantos casos de los 1,000 son créditos morosos. "
   ]
  },
  {
   "cell_type": "code",
   "execution_count": 8,
   "metadata": {},
   "outputs": [
    {
     "name": "stdout",
     "output_type": "stream",
     "text": [
      "Total de créditos morosos  300\n"
     ]
    }
   ],
   "source": [
    "total_malos = creditos[creditos['class'] == \"bad\"]\n",
    "total_malos = total_malos['class'].value_counts()\n",
    "total_malos = int(total_malos)\n",
    "print(\"Total de créditos morosos \", total_malos)"
   ]
  },
  {
   "cell_type": "markdown",
   "metadata": {},
   "source": [
    "Solo a modo de completar la comprensión del juego de datos, adjuntamos la descripción de los campos. \n",
    "\n",
    "**Attribute description** \n",
    "1. Status of existing checking account, in Deutsche Mark.\n",
    "2. Duration in months\n",
    "3. Credit history (credits taken, paid back duly, delays, critical accounts)\n",
    "4. Purpose of the credit (car, television,…)\n",
    "5. Credit amount\n",
    "6. Status of savings account/bonds, in Deutsche Mark.\n",
    "7. Present employment, in number of years.\n",
    "8. Installment rate in percentage of disposable income\n",
    "9. Personal status (married, single,…) and sex\n",
    "10. Other debtors / guarantors\n",
    "11. Present residence since X years\n",
    "12. Property (e.g. real estate)\n",
    "13. Age in years\n",
    "14. Other installment plans (banks, stores)\n",
    "15. Housing (rent, own,…)\n",
    "16. Number of existing credits at this bank\n",
    "17. Job\n",
    "18. Number of people being liable to provide maintenance for\n",
    "19. Telephone (yes,no)\n",
    "20. Foreign worker (yes,no)"
   ]
  },
  {
   "cell_type": "markdown",
   "metadata": {},
   "source": [
    "# Funciones de Apoyo"
   ]
  },
  {
   "cell_type": "markdown",
   "metadata": {},
   "source": [
    "Comencemos por la primera variable, el estatus de la cuenta corriente de banco. Esta variable es categórica y podemos utilizar nuestra función para el análisis. "
   ]
  },
  {
   "cell_type": "code",
   "execution_count": 9,
   "metadata": {},
   "outputs": [
    {
     "name": "stdout",
     "output_type": "stream",
     "text": [
      "Ocurrencias Negativas de Variable checking_status\n",
      "¨¨¨¨¨¨¨¨¨¨¨¨¨¨¨¨¨¨¨¨¨¨¨¨¨¨¨¨¨¨¨¨¨¨¨¨¨¨¨¨¨¨¨¨¨¨¨¨¨\n",
      "--> clase             '<0'  es igual a  135\n",
      "--> clase       '0<=X<200'  es igual a  105\n",
      "--> clase    'no checking'  es igual a  46\n",
      "--> clase          '>=200'  es igual a  14\n"
     ]
    }
   ],
   "source": [
    "analizar('checking_status')"
   ]
  },
  {
   "cell_type": "markdown",
   "metadata": {},
   "source": [
    "Por lo que vemos las cuentas entre cero a doscientos marcos, y las menores de 200 marcos, tienen alta cantidad de casos morosos. Tratemos de visualizar esta variable categórica de alguna manera. Para tal fin contamos con la función `countplot()` de **Seaborn**."
   ]
  },
  {
   "cell_type": "code",
   "execution_count": 10,
   "metadata": {},
   "outputs": [
    {
     "data": {
      "text/plain": [
       "<matplotlib.axes._subplots.AxesSubplot at 0x7ff435055d10>"
      ]
     },
     "execution_count": 10,
     "metadata": {},
     "output_type": "execute_result"
    },
    {
     "data": {
      "image/png": "[encoded data removed]",
      "text/plain": [
       "<Figure size 432x288 with 1 Axes>"
      ]
     },
     "metadata": {
      "needs_background": "light"
     },
     "output_type": "display_data"
    }
   ],
   "source": [
    "import seaborn as sns\n",
    "import matplotlib.pyplot as plt\n",
    "total_malos = creditos[creditos['class'] == \"bad\"]\n",
    "sns.countplot(x='checking_status', data=total_malos)"
   ]
  },
  {
   "cell_type": "markdown",
   "metadata": {},
   "source": [
    "Dado que tendremos que visualizar esto bastantes veces, vamos a crear una función que lo haga automáticamente. "
   ]
  },
  {
   "cell_type": "code",
   "execution_count": 11,
   "metadata": {},
   "outputs": [],
   "source": [
    "def visual_class(target):\n",
    "    total_malos = creditos[creditos['class'] == \"bad\"]\n",
    "    sns.countplot(x=target, data=total_malos)"
   ]
  },
  {
   "cell_type": "markdown",
   "metadata": {},
   "source": [
    "Veamos si funciona:"
   ]
  },
  {
   "cell_type": "code",
   "execution_count": 12,
   "metadata": {},
   "outputs": [
    {
     "data": {
      "image/png": "[encoded data removed]",
      "text/plain": [
       "<Figure size 432x288 with 1 Axes>"
      ]
     },
     "metadata": {
      "needs_background": "light"
     },
     "output_type": "display_data"
    }
   ],
   "source": [
    "visual_class('checking_status')"
   ]
  },
  {
   "cell_type": "markdown",
   "metadata": {},
   "source": [
    "Pero podemos hacer algo mejor, crear una clase que vea cada variable categórica en dos: uno para los casos en que el crédito resultó pago, y otro para los casos que resultó moroso. Eso nos va a permitir hacer mejores análisis de las 20 variables involucradas."
   ]
  },
  {
   "cell_type": "code",
   "execution_count": 13,
   "metadata": {},
   "outputs": [],
   "source": [
    "def grafica_categorica(target):\n",
    "    sns.catplot(x=target, col=\"class\", data=creditos, kind=\"count\", aspect=1.2)\n",
    "    plt.show()"
   ]
  },
  {
   "cell_type": "markdown",
   "metadata": {},
   "source": [
    "De igual forma, probamos que funcione:"
   ]
  },
  {
   "cell_type": "code",
   "execution_count": 14,
   "metadata": {},
   "outputs": [
    {
     "data": {
      "image/png": "[encoded data removed]",
      "text/plain": [
       "<Figure size 864x360 with 2 Axes>"
      ]
     },
     "metadata": {
      "needs_background": "light"
     },
     "output_type": "display_data"
    }
   ],
   "source": [
    "grafica_categorica('checking_status')"
   ]
  },
  {
   "cell_type": "markdown",
   "metadata": {},
   "source": [
    "Ahora que podemos visualizar datos categóricos, sería bueno ver la distribución de datos numéricos para comparar clases diferentes (en este caso créditos buenos de malos)."
   ]
  },
  {
   "cell_type": "code",
   "execution_count": 15,
   "metadata": {},
   "outputs": [],
   "source": [
    "def grafica_numerica(target):\n",
    "    sns.displot(creditos, x=target, hue=\"class\", multiple=\"stack\", aspect=1.2, bins=20)\n",
    "    plt.show()"
   ]
  },
  {
   "cell_type": "code",
   "execution_count": 16,
   "metadata": {},
   "outputs": [
    {
     "data": {
      "image/png": "[encoded data removed]",
      "text/plain": [
       "<Figure size 492.75x360 with 1 Axes>"
      ]
     },
     "metadata": {
      "needs_background": "light"
     },
     "output_type": "display_data"
    }
   ],
   "source": [
    "grafica_numerica('age')"
   ]
  },
  {
   "cell_type": "markdown",
   "metadata": {},
   "source": [
    "# Análisis Visual de las Variables Implicadas\n",
    "Es probable que de las veinte variables disponibles en el juego de datos, existan algunas donde la diferencia es marcada y tiene una tendencia que apunta a ser parte importante de la razón de los 300 casos de créditos morosos. En nuestro caso, y dado que estamos usando una heurística y no aprendizaje automatizado, inicializamos el valor de referencia en 100.\n",
    "\n",
    "Procedemos así a evaluar las variables involucradas y determinar su incidencia - o no - en la morosidad. "
   ]
  },
  {
   "cell_type": "markdown",
   "metadata": {},
   "source": [
    "## Checking Status\n",
    "La primera variable a analizar es el estado de crédito del cliente en marcos suizos. "
   ]
  },
  {
   "cell_type": "code",
   "execution_count": 17,
   "metadata": {},
   "outputs": [
    {
     "data": {
      "image/png": "[encoded data removed]",
      "text/plain": [
       "<Figure size 864x360 with 2 Axes>"
      ]
     },
     "metadata": {
      "needs_background": "light"
     },
     "output_type": "display_data"
    }
   ],
   "source": [
    "grafica_categorica('checking_status')"
   ]
  },
  {
   "cell_type": "markdown",
   "metadata": {},
   "source": [
    "Pareciera haber igual posibilidad de incumplir el crédito para aquellos que presentan fondos menores a 200 marcos. Ambas variables cruzan nuestra linea imaginaria de 100. Sin embargo aquellos que no tienen cuenta corriente tienen un muy alto nivel de cumplimiento de pagos. "
   ]
  },
  {
   "cell_type": "markdown",
   "metadata": {},
   "source": [
    "## Duration\n",
    "Analicemos como influye el plazo del crédito en la morosidad."
   ]
  },
  {
   "cell_type": "code",
   "execution_count": 18,
   "metadata": {},
   "outputs": [
    {
     "data": {
      "image/png": "[encoded data removed]",
      "text/plain": [
       "<Figure size 432x288 with 1 Axes>"
      ]
     },
     "metadata": {
      "needs_background": "light"
     },
     "output_type": "display_data"
    }
   ],
   "source": [
    "import matplotlib.pyplot as plt\n",
    "import seaborn as sns\n",
    "ax = sns.boxplot(x=\"class\", y=\"duration\", data=creditos)\n"
   ]
  },
  {
   "cell_type": "markdown",
   "metadata": {},
   "source": [
    "Este cuadro no nos dice mucho. Mejor solo analicemos los créditos morosos y veamos una distribución por madurez de los mismos, a ver si un patrón emerge."
   ]
  },
  {
   "cell_type": "code",
   "execution_count": 19,
   "metadata": {},
   "outputs": [
    {
     "data": {
      "image/png": "[encoded data removed]",
      "text/plain": [
       "<Figure size 492.75x360 with 1 Axes>"
      ]
     },
     "metadata": {
      "needs_background": "light"
     },
     "output_type": "display_data"
    }
   ],
   "source": [
    "grafica_numerica('duration')"
   ]
  },
  {
   "cell_type": "markdown",
   "metadata": {},
   "source": [
    "Según el análisis visual, los créditos cortos tienen más probabilidad de convertirse en morosos. Curiosamente a medida que el plazo del crédito aumenta, disminuyen los casos de créditos malos. Pero visto en el contexto de todos los datos, ninguno de los indicados como créditos malos es necesariamente alto en incidencia (solo uno cruza la línea de 50)."
   ]
  },
  {
   "cell_type": "markdown",
   "metadata": {},
   "source": [
    "## Credit History\n",
    "El historial de crédito es una variable categórica que podemos analizar y visualizar fácilmente con nuestras funciones. "
   ]
  },
  {
   "cell_type": "code",
   "execution_count": 20,
   "metadata": {},
   "outputs": [
    {
     "name": "stdout",
     "output_type": "stream",
     "text": [
      "Ocurrencias Negativas de Variable credit_history\n",
      "¨¨¨¨¨¨¨¨¨¨¨¨¨¨¨¨¨¨¨¨¨¨¨¨¨¨¨¨¨¨¨¨¨¨¨¨¨¨¨¨¨¨¨¨¨¨¨¨\n",
      "--> clase  'critical/other existing credit'  es igual a  50\n",
      "--> clase  'existing paid'  es igual a  169\n",
      "--> clase  'delayed previously'  es igual a  28\n",
      "--> clase  'no credits/all paid'  es igual a  25\n",
      "--> clase       'all paid'  es igual a  28\n"
     ]
    }
   ],
   "source": [
    "analizar('credit_history')"
   ]
  },
  {
   "cell_type": "code",
   "execution_count": 21,
   "metadata": {},
   "outputs": [
    {
     "data": {
      "image/png": "[encoded data removed]",
      "text/plain": [
       "<Figure size 864x360 with 2 Axes>"
      ]
     },
     "metadata": {
      "needs_background": "light"
     },
     "output_type": "display_data"
    }
   ],
   "source": [
    "grafica_categorica('credit_history')"
   ]
  },
  {
   "cell_type": "markdown",
   "metadata": {},
   "source": [
    "Es muy curioso que los casos morosos son con personas que ya han pagado un crédito anterior. Esta variable tiene una proporción de 0.50:1 con el mismo bracket en créditos buenos y debieramos penalizar la función en tal caso. Adicionalmente marca 169 en nuestra línea imaginaria de cruce."
   ]
  },
  {
   "cell_type": "markdown",
   "metadata": {},
   "source": [
    "## Purpose\n",
    "¿Habrá alguna relación entre el propósito del crédito y el nivel de morosidad?"
   ]
  },
  {
   "cell_type": "code",
   "execution_count": 22,
   "metadata": {},
   "outputs": [
    {
     "name": "stdout",
     "output_type": "stream",
     "text": [
      "Ocurrencias Negativas de Variable purpose\n",
      "¨¨¨¨¨¨¨¨¨¨¨¨¨¨¨¨¨¨¨¨¨¨¨¨¨¨¨¨¨¨¨¨¨¨¨¨¨¨¨¨¨\n",
      "--> clase         radio/tv  es igual a  62\n",
      "--> clase        education  es igual a  22\n",
      "--> clase  furniture/equipment  es igual a  58\n",
      "--> clase        'new car'  es igual a  89\n",
      "--> clase       'used car'  es igual a  17\n",
      "--> clase         business  es igual a  34\n",
      "--> clase  'domestic appliance'  es igual a  4\n",
      "--> clase          repairs  es igual a  8\n",
      "--> clase            other  es igual a  5\n",
      "--> clase       retraining  es igual a  1\n"
     ]
    }
   ],
   "source": [
    "analizar('purpose')"
   ]
  },
  {
   "cell_type": "markdown",
   "metadata": {},
   "source": [
    "Solamente una clase se acerca a nuestra medida de 100 sin llegar, créditos destinados a autos. "
   ]
  },
  {
   "cell_type": "code",
   "execution_count": 23,
   "metadata": {},
   "outputs": [
    {
     "data": {
      "image/png": "[encoded data removed]",
      "text/plain": [
       "<Figure size 864x360 with 2 Axes>"
      ]
     },
     "metadata": {
      "needs_background": "light"
     },
     "output_type": "display_data"
    }
   ],
   "source": [
    "grafica_categorica('purpose')"
   ]
  },
  {
   "cell_type": "markdown",
   "metadata": {},
   "source": [
    "## Credit Amount\n",
    "El monto del crédito puede contener información valiosa sobre la incidencia de morosidad. Uno pensaría que la gente incumple en montos grandes y difíciles de pagar en caso de problemas. "
   ]
  },
  {
   "cell_type": "code",
   "execution_count": 24,
   "metadata": {},
   "outputs": [
    {
     "data": {
      "image/png": "[encoded data removed]",
      "text/plain": [
       "<Figure size 492.75x360 with 1 Axes>"
      ]
     },
     "metadata": {
      "needs_background": "light"
     },
     "output_type": "display_data"
    }
   ],
   "source": [
    "grafica_numerica('credit_amount')"
   ]
  },
  {
   "cell_type": "markdown",
   "metadata": {},
   "source": [
    "Extrañamente, los créditos por debajo de los 2,500 marcos son los que más la gente incumple, exactamente lo contrario a lo pensado. Pero vistos en el contexto total son muchos más los que se pagan, y ninguno cruza la línea de 100 incidencias. "
   ]
  },
  {
   "cell_type": "markdown",
   "metadata": {},
   "source": [
    "## Saving Status\n",
    "Esta variable - estatus de los ahorros - parece superflua, ya que se asemeja mucho al estatus de la cuenta corriente. "
   ]
  },
  {
   "cell_type": "code",
   "execution_count": 25,
   "metadata": {},
   "outputs": [
    {
     "name": "stdout",
     "output_type": "stream",
     "text": [
      "Ocurrencias Negativas de Variable savings_status\n",
      "¨¨¨¨¨¨¨¨¨¨¨¨¨¨¨¨¨¨¨¨¨¨¨¨¨¨¨¨¨¨¨¨¨¨¨¨¨¨¨¨¨¨¨¨¨¨¨¨\n",
      "--> clase  'no known savings'  es igual a  32\n",
      "--> clase           '<100'  es igual a  217\n",
      "--> clase    '500<=X<1000'  es igual a  11\n",
      "--> clase         '>=1000'  es igual a  6\n",
      "--> clase     '100<=X<500'  es igual a  34\n"
     ]
    }
   ],
   "source": [
    "analizar('savings_status')"
   ]
  },
  {
   "cell_type": "code",
   "execution_count": 26,
   "metadata": {},
   "outputs": [
    {
     "data": {
      "image/png": "[encoded data removed]",
      "text/plain": [
       "<Figure size 864x360 with 2 Axes>"
      ]
     },
     "metadata": {
      "needs_background": "light"
     },
     "output_type": "display_data"
    }
   ],
   "source": [
    "grafica_categorica('savings_status')"
   ]
  },
  {
   "cell_type": "markdown",
   "metadata": {},
   "source": [
    "Inmediatamente vemos como aquellos clientes con ahorros menores a 100 marcos son los que más incumplen. Sin embargo aquellos sin ahorros tienen un nivel muy bajo de incumplimiento, lo que es un tanto contradictorio. Comparado con aquellos clientes con ahorros de menos de 100 marcos que si pagan, las incidencias de morosidad igual son relativamente grandes, por lo que debemos penalizar este **bracket**. "
   ]
  },
  {
   "cell_type": "markdown",
   "metadata": {},
   "source": [
    "## Employment\n",
    "Uno pensaría que el momento de desempleo es el momento adecuado para pedir un préstamo, y quizás el de más vulnerabilidad para incumplir. Analicemos esta variable. "
   ]
  },
  {
   "cell_type": "code",
   "execution_count": 27,
   "metadata": {},
   "outputs": [
    {
     "name": "stdout",
     "output_type": "stream",
     "text": [
      "Ocurrencias Negativas de Variable employment\n",
      "¨¨¨¨¨¨¨¨¨¨¨¨¨¨¨¨¨¨¨¨¨¨¨¨¨¨¨¨¨¨¨¨¨¨¨¨¨¨¨¨¨¨¨¨\n",
      "--> clase            '>=7'  es igual a  64\n",
      "--> clase         '1<=X<4'  es igual a  104\n",
      "--> clase         '4<=X<7'  es igual a  39\n",
      "--> clase       unemployed  es igual a  23\n",
      "--> clase             '<1'  es igual a  70\n"
     ]
    }
   ],
   "source": [
    "analizar('employment')"
   ]
  },
  {
   "cell_type": "code",
   "execution_count": 28,
   "metadata": {
    "scrolled": true
   },
   "outputs": [
    {
     "data": {
      "image/png": "[encoded data removed]",
      "text/plain": [
       "<Figure size 864x360 with 2 Axes>"
      ]
     },
     "metadata": {
      "needs_background": "light"
     },
     "output_type": "display_data"
    }
   ],
   "source": [
    "grafica_categorica('employment')"
   ]
  },
  {
   "cell_type": "markdown",
   "metadata": {},
   "source": [
    "Por alguna razón, el indice más alto de morosidad se da en aquellos trabajadores con más de un año de trabajo pero menos de cuatro. En el caso de los créditos pagos, también son mayoría, pero esta variable cruza nuestra línea de 100, por lo que debemos penalizarla. "
   ]
  },
  {
   "cell_type": "markdown",
   "metadata": {},
   "source": [
    "## Installment Commitment\n",
    "La tasa de pago se representa como el porcentage de retorno por el monto de crédito y nos puede dar luces de si algunas tasas son causal de mayores niveles de morosidad. "
   ]
  },
  {
   "cell_type": "code",
   "execution_count": 29,
   "metadata": {},
   "outputs": [
    {
     "data": {
      "image/png": "[encoded data removed]",
      "text/plain": [
       "<Figure size 492.75x360 with 1 Axes>"
      ]
     },
     "metadata": {
      "needs_background": "light"
     },
     "output_type": "display_data"
    }
   ],
   "source": [
    "grafica_numerica('installment_commitment')"
   ]
  },
  {
   "cell_type": "markdown",
   "metadata": {},
   "source": [
    "Es evidente que las tasas de 4.0 son muy proclives a casos de morosidad y créditos malos. Es la única que cruza nuestro umbral de 100 y debe ser penalizada. "
   ]
  },
  {
   "cell_type": "markdown",
   "metadata": {},
   "source": [
    "## Personal Status\n",
    "Veamos como puede afectar la morosidad el estatus personal o marital."
   ]
  },
  {
   "cell_type": "code",
   "execution_count": 30,
   "metadata": {},
   "outputs": [
    {
     "name": "stdout",
     "output_type": "stream",
     "text": [
      "Ocurrencias Negativas de Variable personal_status\n",
      "¨¨¨¨¨¨¨¨¨¨¨¨¨¨¨¨¨¨¨¨¨¨¨¨¨¨¨¨¨¨¨¨¨¨¨¨¨¨¨¨¨¨¨¨¨¨¨¨¨\n",
      "--> clase    'male single'  es igual a  146\n",
      "--> clase  'female div/dep/mar'  es igual a  109\n",
      "--> clase   'male div/sep'  es igual a  20\n",
      "--> clase   'male mar/wid'  es igual a  25\n"
     ]
    }
   ],
   "source": [
    "analizar('personal_status')"
   ]
  },
  {
   "cell_type": "code",
   "execution_count": 31,
   "metadata": {},
   "outputs": [
    {
     "data": {
      "image/png": "[encoded data removed]",
      "text/plain": [
       "<Figure size 864x360 with 2 Axes>"
      ]
     },
     "metadata": {
      "needs_background": "light"
     },
     "output_type": "display_data"
    }
   ],
   "source": [
    "grafica_categorica('personal_status')"
   ]
  },
  {
   "cell_type": "markdown",
   "metadata": {},
   "source": [
    "Del análisis visual, podemos ver que tanto los hombres solteros como las mujeres de cualquier clase marital son fuertes candidatos a morosidad (**y esto de por si es una regla que raya en lo ilegal, descriminar mujeres como un todo**). Ambas variables deben ser penalizadas. "
   ]
  },
  {
   "cell_type": "markdown",
   "metadata": {},
   "source": [
    "## Other Parties\n",
    "El sentido común dice que créditos con garantes y co-deudores debieran tener mayor cumplimiento que aquellos que no poseen ninguna garantía. "
   ]
  },
  {
   "cell_type": "code",
   "execution_count": 32,
   "metadata": {},
   "outputs": [
    {
     "name": "stdout",
     "output_type": "stream",
     "text": [
      "Ocurrencias Negativas de Variable other_parties\n",
      "¨¨¨¨¨¨¨¨¨¨¨¨¨¨¨¨¨¨¨¨¨¨¨¨¨¨¨¨¨¨¨¨¨¨¨¨¨¨¨¨¨¨¨¨¨¨¨\n",
      "--> clase             none  es igual a  272\n",
      "--> clase        guarantor  es igual a  10\n",
      "--> clase   'co applicant'  es igual a  18\n"
     ]
    }
   ],
   "source": [
    "analizar('other_parties')"
   ]
  },
  {
   "cell_type": "code",
   "execution_count": 33,
   "metadata": {},
   "outputs": [
    {
     "data": {
      "image/png": "[encoded data removed]",
      "text/plain": [
       "<Figure size 864x360 with 2 Axes>"
      ]
     },
     "metadata": {
      "needs_background": "light"
     },
     "output_type": "display_data"
    }
   ],
   "source": [
    "grafica_categorica('other_parties')"
   ]
  },
  {
   "cell_type": "markdown",
   "metadata": {},
   "source": [
    "El análisis visual determina que aquellas cuentas que no tienen garante son más proclives a incumplir pagos que los que si tienen. Casi una tercera parte incumple por lo tanto esta variable debe ser penalizada."
   ]
  },
  {
   "cell_type": "markdown",
   "metadata": {},
   "source": [
    "## Residence Since\n",
    "Aquellas personas que tienen determinado tiempo de residencia pudieran ser menos proclives a morosidad, ya que tienen cierta estabilidad social. Analicemos el comporamiento de la variable. "
   ]
  },
  {
   "cell_type": "code",
   "execution_count": 34,
   "metadata": {},
   "outputs": [
    {
     "data": {
      "image/png": "[encoded data removed]",
      "text/plain": [
       "<Figure size 864x360 with 2 Axes>"
      ]
     },
     "metadata": {
      "needs_background": "light"
     },
     "output_type": "display_data"
    }
   ],
   "source": [
    "grafica_categorica('residence_since')"
   ]
  },
  {
   "cell_type": "markdown",
   "metadata": {},
   "source": [
    "Esta gráfica y la de tasa de pago se parecen mucho, y parece contradictorio que aquellos que tienen 4 como tiempo de residencia son los que más incumplen pagos."
   ]
  },
  {
   "cell_type": "markdown",
   "metadata": {},
   "source": [
    "## Property Magnitude\n",
    "Aquellos que tienen propiedad por lo general se consideran mejores sujetos de crédito que aquellos que no la poseen."
   ]
  },
  {
   "cell_type": "code",
   "execution_count": 35,
   "metadata": {},
   "outputs": [
    {
     "name": "stdout",
     "output_type": "stream",
     "text": [
      "Ocurrencias Negativas de Variable property_magnitude\n",
      "¨¨¨¨¨¨¨¨¨¨¨¨¨¨¨¨¨¨¨¨¨¨¨¨¨¨¨¨¨¨¨¨¨¨¨¨¨¨¨¨¨¨¨¨¨¨¨¨¨¨¨¨\n",
      "--> clase    'real estate'  es igual a  60\n",
      "--> clase  'life insurance'  es igual a  71\n",
      "--> clase  'no known property'  es igual a  67\n",
      "--> clase              car  es igual a  102\n"
     ]
    }
   ],
   "source": [
    "analizar('property_magnitude')"
   ]
  },
  {
   "cell_type": "code",
   "execution_count": 36,
   "metadata": {},
   "outputs": [
    {
     "data": {
      "image/png": "[encoded data removed]",
      "text/plain": [
       "<Figure size 864x360 with 2 Axes>"
      ]
     },
     "metadata": {
      "needs_background": "light"
     },
     "output_type": "display_data"
    }
   ],
   "source": [
    "grafica_categorica('property_magnitude')"
   ]
  },
  {
   "cell_type": "markdown",
   "metadata": {},
   "source": [
    "Aunque extraños, aquellos que poseen un carro son los únicos que tienen una ligera inclinación a la morosidad. Casi un 45% de los que poseen carros tienen créditos morosos. "
   ]
  },
  {
   "cell_type": "markdown",
   "metadata": {},
   "source": [
    "## Age\n",
    "Si la edad trae el juicio en la gente, seguramente aquellos de mayor edad tienen menos incidencia a la morosidad."
   ]
  },
  {
   "cell_type": "code",
   "execution_count": 37,
   "metadata": {},
   "outputs": [
    {
     "data": {
      "image/png": "[encoded data removed]",
      "text/plain": [
       "<Figure size 492.75x360 with 1 Axes>"
      ]
     },
     "metadata": {
      "needs_background": "light"
     },
     "output_type": "display_data"
    }
   ],
   "source": [
    "grafica_numerica('age')"
   ]
  },
  {
   "cell_type": "markdown",
   "metadata": {},
   "source": [
    "Efectivamente los menores de 25 tienen mayor incidencia en la morosidad, pero no es determinante y los casos son menores a 50, por lo que no los consideraremos. "
   ]
  },
  {
   "cell_type": "markdown",
   "metadata": {},
   "source": [
    "## Other Payment Plans\n",
    "La variable `other_payment_plans` indica otros pagos pendientes que pudieran afectar la capacidad de solventar un prestamo. "
   ]
  },
  {
   "cell_type": "code",
   "execution_count": 38,
   "metadata": {},
   "outputs": [
    {
     "name": "stdout",
     "output_type": "stream",
     "text": [
      "Ocurrencias Negativas de Variable other_payment_plans\n",
      "¨¨¨¨¨¨¨¨¨¨¨¨¨¨¨¨¨¨¨¨¨¨¨¨¨¨¨¨¨¨¨¨¨¨¨¨¨¨¨¨¨¨¨¨¨¨¨¨¨¨¨¨¨\n",
      "--> clase             none  es igual a  224\n",
      "--> clase             bank  es igual a  57\n",
      "--> clase           stores  es igual a  19\n"
     ]
    }
   ],
   "source": [
    "analizar('other_payment_plans')"
   ]
  },
  {
   "cell_type": "code",
   "execution_count": 39,
   "metadata": {},
   "outputs": [
    {
     "data": {
      "image/png": "[encoded data removed]",
      "text/plain": [
       "<Figure size 864x360 with 2 Axes>"
      ]
     },
     "metadata": {
      "needs_background": "light"
     },
     "output_type": "display_data"
    }
   ],
   "source": [
    "grafica_categorica('other_payment_plans')"
   ]
  },
  {
   "cell_type": "markdown",
   "metadata": {},
   "source": [
    "Nuevamente, aunque un poco contraintuitivo, aquellos que tienen cero obligaciones adicionales son los que más morosidad aportan. El porcentaje de casos morosos es superior al 33%."
   ]
  },
  {
   "cell_type": "markdown",
   "metadata": {},
   "source": [
    "## Housing\n",
    "¿Qué efecto tiene el tipo de situación de habitación en el pago de la deuda?"
   ]
  },
  {
   "cell_type": "code",
   "execution_count": 40,
   "metadata": {},
   "outputs": [
    {
     "name": "stdout",
     "output_type": "stream",
     "text": [
      "Ocurrencias Negativas de Variable housing\n",
      "¨¨¨¨¨¨¨¨¨¨¨¨¨¨¨¨¨¨¨¨¨¨¨¨¨¨¨¨¨¨¨¨¨¨¨¨¨¨¨¨¨\n",
      "--> clase              own  es igual a  186\n",
      "--> clase       'for free'  es igual a  44\n",
      "--> clase             rent  es igual a  70\n"
     ]
    }
   ],
   "source": [
    "analizar('housing')"
   ]
  },
  {
   "cell_type": "code",
   "execution_count": 41,
   "metadata": {},
   "outputs": [
    {
     "data": {
      "image/png": "[encoded data removed]",
      "text/plain": [
       "<Figure size 864x360 with 2 Axes>"
      ]
     },
     "metadata": {
      "needs_background": "light"
     },
     "output_type": "display_data"
    }
   ],
   "source": [
    "grafica_categorica('housing')"
   ]
  },
  {
   "cell_type": "markdown",
   "metadata": {},
   "source": [
    "Por alguna razón, aquellas personas que tienen casa son mucho más proclives a caer en morosidad. Hay 186 casos malos de 525 que se pagaron. Por lo tanto debemos penalizar dicha variable."
   ]
  },
  {
   "cell_type": "markdown",
   "metadata": {},
   "source": [
    "## Existing Credits\n",
    "¿Cómo impacta la morosidad la existencia de créditos previos? Analicemos la misma."
   ]
  },
  {
   "cell_type": "code",
   "execution_count": 42,
   "metadata": {},
   "outputs": [
    {
     "data": {
      "image/png": "[encoded data removed]",
      "text/plain": [
       "<Figure size 492.75x360 with 1 Axes>"
      ]
     },
     "metadata": {
      "needs_background": "light"
     },
     "output_type": "display_data"
    }
   ],
   "source": [
    "grafica_numerica('existing_credits')"
   ]
  },
  {
   "cell_type": "markdown",
   "metadata": {},
   "source": [
    "Aparentemente, aquellos que ya tienen un crédito existentes tienen problema pagando dos. Pero los que tienen dos, no parecen tener tanto problema pagando tres (por lo menos no cruzan nuestra linea de 100). "
   ]
  },
  {
   "cell_type": "markdown",
   "metadata": {},
   "source": [
    "## Job\n",
    "La calidad del trabajo seguramente tiene una incidencia importante en la morosidad - o no - del crédito."
   ]
  },
  {
   "cell_type": "code",
   "execution_count": 43,
   "metadata": {},
   "outputs": [
    {
     "data": {
      "image/png": "[encoded data removed]",
      "text/plain": [
       "<Figure size 864x360 with 2 Axes>"
      ]
     },
     "metadata": {
      "needs_background": "light"
     },
     "output_type": "display_data"
    }
   ],
   "source": [
    "grafica_categorica('job')"
   ]
  },
  {
   "cell_type": "markdown",
   "metadata": {},
   "source": [
    "Aparentemente, aquellos con calificación de _skilled_ tienen mucha probabilidad de fallar en los pagos, con casi 200 ocurrencias. Es casi la mitad del total que si pagó. "
   ]
  },
  {
   "cell_type": "markdown",
   "metadata": {},
   "source": [
    "## Own Telephone\n",
    "Durante años, los bancos han utilizado la propiedad de una línea de teléfono fijo como señal de buen crédito, y la ausencia de la misma, como mala señal. Veamos que nos indica el juego de datos."
   ]
  },
  {
   "cell_type": "code",
   "execution_count": 44,
   "metadata": {},
   "outputs": [
    {
     "data": {
      "image/png": "[encoded data removed]",
      "text/plain": [
       "<Figure size 864x360 with 2 Axes>"
      ]
     },
     "metadata": {
      "needs_background": "light"
     },
     "output_type": "display_data"
    }
   ],
   "source": [
    "grafica_categorica('own_telephone')"
   ]
  },
  {
   "cell_type": "markdown",
   "metadata": {},
   "source": [
    "La incidencia no es tan alta como pensada, pero casi 200 créditos malos de 420 con personas que no poseían teléfono es un claro indicador que debemos penalizar. "
   ]
  },
  {
   "cell_type": "markdown",
   "metadata": {},
   "source": [
    "## Foreign Worker\n",
    "Un trabajador extranjero está mucho más expuesto a problemas financieros que uno nacional. Analicemos el comportamiento del juego de datos."
   ]
  },
  {
   "cell_type": "code",
   "execution_count": 45,
   "metadata": {},
   "outputs": [
    {
     "data": {
      "image/png": "[encoded data removed]",
      "text/plain": [
       "<Figure size 864x360 with 2 Axes>"
      ]
     },
     "metadata": {
      "needs_background": "light"
     },
     "output_type": "display_data"
    }
   ],
   "source": [
    "grafica_categorica('foreign_worker')"
   ]
  },
  {
   "cell_type": "markdown",
   "metadata": {},
   "source": [
    "Lamentablemente, de casi 1000 créditos, 300 que fracasaron corresponden a trabajadores extranjeros. Esta variable debe penalizarse en el modelo por doble. "
   ]
  },
  {
   "cell_type": "markdown",
   "metadata": {},
   "source": [
    "# Un Modelo Heurístico\n",
    "Dado que hemos recaudado mucha información del análisis visual de la data, podemos crear un modelo heurístico, aunque crudo, que reuna información de cada caso y penalice ciertas variables, con un puntaje final. De dicha manera, si el puntaje cruza cierto rango, podemos definir el crédito como bueno o malo, y luego comparar el resultado de la predicción con la realidad. "
   ]
  },
  {
   "cell_type": "code",
   "execution_count": 46,
   "metadata": {},
   "outputs": [],
   "source": [
    "# Modelo predictivo\n",
    "\n",
    "def asignar_puntaje(caso):\n",
    "    p = 0\n",
    "    if caso['checking_status'] == \"'<0'\":p = p + 1\n",
    "    if caso['checking_status'] == \"'0<=X<200'\":p = p + 1\n",
    "    if caso['credit_history'] == \"'existing paid'\": p = p + 1\n",
    "    if caso['savings_status'] == \"'<100'\": p = p + 1\n",
    "    if caso['employment'] == \"'1<=X<4'\": p = p + 1\n",
    "    if caso['installment_commitment'] > 3.5: p = p + 1\n",
    "    if caso['personal_status'] == \"'male single'\": p = p + 1\n",
    "    if caso['personal_status'] == \"'female div/dep/mar'\": p = p + 1\n",
    "    if caso['other_parties'] == 'none': p = p + 1\n",
    "    if caso['residence_since'] > 3: p = p + 1\n",
    "    if caso['property_magnitude'] == 'car': p = p + 1\n",
    "    if caso['other_payment_plans'] == 'none': p = p + 1\n",
    "    if caso['housing'] == 'own': p = p + 1\n",
    "    if caso['existing_credits'] == 1: p = p + 1\n",
    "    if caso['job'] == 'skilled': p = p + 1\n",
    "    if caso['own_telephone'] == 'none': p = p + 1\n",
    "    if caso['foreign_worker'] == 'yes': p = p + 1\n",
    "    return(p)"
   ]
  },
  {
   "cell_type": "markdown",
   "metadata": {},
   "source": [
    "Hagamos una prueba con el primer record para analizar que tan bien podemos evaluar un crédito. "
   ]
  },
  {
   "cell_type": "code",
   "execution_count": 47,
   "metadata": {},
   "outputs": [
    {
     "name": "stdout",
     "output_type": "stream",
     "text": [
      "checking_status                     '0<=X<200'\n",
      "duration                                    48\n",
      "credit_history                 'existing paid'\n",
      "purpose                               radio/tv\n",
      "credit_amount                             5951\n",
      "savings_status                          '<100'\n",
      "employment                            '1<=X<4'\n",
      "installment_commitment                       2\n",
      "personal_status           'female div/dep/mar'\n",
      "other_parties                             none\n",
      "residence_since                              2\n",
      "property_magnitude               'real estate'\n",
      "age                                         22\n",
      "other_payment_plans                       none\n",
      "housing                                    own\n",
      "existing_credits                             1\n",
      "job                                    skilled\n",
      "num_dependents                               1\n",
      "own_telephone                             none\n",
      "foreign_worker                             yes\n",
      "class                                      bad\n",
      "Name: 1, dtype: object\n"
     ]
    }
   ],
   "source": [
    "print(creditos.iloc[1])"
   ]
  },
  {
   "cell_type": "code",
   "execution_count": 48,
   "metadata": {},
   "outputs": [
    {
     "name": "stdout",
     "output_type": "stream",
     "text": [
      "12\n"
     ]
    }
   ],
   "source": [
    "print(asignar_puntaje(creditos.iloc[1]))"
   ]
  },
  {
   "cell_type": "markdown",
   "metadata": {},
   "source": [
    "Hasta aquí y con un poco de _debugging_ podemos identificar exitosamente los casos y dar un puntaje. Pudiéramos armar una función que imprima el registro, otorgue un puntaje, y determine si es un caso potencial de crédito bueno o malo. Vamos a fijar el umbral en 8 puntos (todo aquel que tenga más de 8 puntos es un caso de posible moratoria)."
   ]
  },
  {
   "cell_type": "code",
   "execution_count": 49,
   "metadata": {},
   "outputs": [],
   "source": [
    "def analisis_credito(target):\n",
    "    print(target)\n",
    "    print(\"Puntaje asignado: \", asignar_puntaje(target), \"\\n\")\n",
    "    if asignar_puntaje(target) < 8: \n",
    "        print(\"Crédito aprobado!\") \n",
    "    else:\n",
    "        print(\"Crédito RECHAZADO!\")"
   ]
  },
  {
   "cell_type": "code",
   "execution_count": 50,
   "metadata": {},
   "outputs": [
    {
     "name": "stdout",
     "output_type": "stream",
     "text": [
      "checking_status                     '0<=X<200'\n",
      "duration                                    48\n",
      "credit_history                 'existing paid'\n",
      "purpose                               radio/tv\n",
      "credit_amount                             5951\n",
      "savings_status                          '<100'\n",
      "employment                            '1<=X<4'\n",
      "installment_commitment                       2\n",
      "personal_status           'female div/dep/mar'\n",
      "other_parties                             none\n",
      "residence_since                              2\n",
      "property_magnitude               'real estate'\n",
      "age                                         22\n",
      "other_payment_plans                       none\n",
      "housing                                    own\n",
      "existing_credits                             1\n",
      "job                                    skilled\n",
      "num_dependents                               1\n",
      "own_telephone                             none\n",
      "foreign_worker                             yes\n",
      "class                                      bad\n",
      "Name: 1, dtype: object\n",
      "Puntaje asignado:  12 \n",
      "\n",
      "Crédito RECHAZADO!\n"
     ]
    }
   ],
   "source": [
    "analisis_credito(creditos.iloc[1])"
   ]
  },
  {
   "cell_type": "code",
   "execution_count": 51,
   "metadata": {},
   "outputs": [
    {
     "name": "stdout",
     "output_type": "stream",
     "text": [
      "checking_status                  'no checking'\n",
      "duration                                    24\n",
      "credit_history                 'existing paid'\n",
      "purpose                              'new car'\n",
      "credit_amount                             1469\n",
      "savings_status                    '100<=X<500'\n",
      "employment                               '>=7'\n",
      "installment_commitment                       4\n",
      "personal_status                 'male mar/wid'\n",
      "other_parties                             none\n",
      "residence_since                              4\n",
      "property_magnitude               'real estate'\n",
      "age                                         41\n",
      "other_payment_plans                       none\n",
      "housing                                   rent\n",
      "existing_credits                             1\n",
      "job                       'unskilled resident'\n",
      "num_dependents                               1\n",
      "own_telephone                             none\n",
      "foreign_worker                             yes\n",
      "class                                     good\n",
      "Name: 100, dtype: object\n",
      "Puntaje asignado:  8 \n",
      "\n",
      "Crédito RECHAZADO!\n"
     ]
    }
   ],
   "source": [
    "analisis_credito(creditos.iloc[100])"
   ]
  },
  {
   "cell_type": "markdown",
   "metadata": {},
   "source": [
    "Pudiera ser que 8 es un umbral muy dificil de alcanzar. Probemos dos casos más al azar."
   ]
  },
  {
   "cell_type": "code",
   "execution_count": 52,
   "metadata": {},
   "outputs": [
    {
     "name": "stdout",
     "output_type": "stream",
     "text": [
      "checking_status                     '0<=X<200'\n",
      "duration                                    24\n",
      "credit_history                 'existing paid'\n",
      "purpose                              'new car'\n",
      "credit_amount                             1246\n",
      "savings_status                          '<100'\n",
      "employment                                '<1'\n",
      "installment_commitment                       4\n",
      "personal_status                  'male single'\n",
      "other_parties                             none\n",
      "residence_since                              2\n",
      "property_magnitude               'real estate'\n",
      "age                                         23\n",
      "other_payment_plans                     stores\n",
      "housing                                    own\n",
      "existing_credits                             1\n",
      "job                       'unskilled resident'\n",
      "num_dependents                               1\n",
      "own_telephone                             none\n",
      "foreign_worker                             yes\n",
      "class                                      bad\n",
      "Name: 355, dtype: object\n",
      "Puntaje asignado:  10 \n",
      "\n",
      "Crédito RECHAZADO!\n"
     ]
    }
   ],
   "source": [
    "analisis_credito(creditos.iloc[355])"
   ]
  },
  {
   "cell_type": "code",
   "execution_count": 53,
   "metadata": {},
   "outputs": [
    {
     "name": "stdout",
     "output_type": "stream",
     "text": [
      "checking_status                           '<0'\n",
      "duration                                    18\n",
      "credit_history                 'existing paid'\n",
      "purpose                               radio/tv\n",
      "credit_amount                             3509\n",
      "savings_status                          '<100'\n",
      "employment                            '4<=X<7'\n",
      "installment_commitment                       4\n",
      "personal_status           'female div/dep/mar'\n",
      "other_parties                        guarantor\n",
      "residence_since                              1\n",
      "property_magnitude               'real estate'\n",
      "age                                         25\n",
      "other_payment_plans                       none\n",
      "housing                                    own\n",
      "existing_credits                             1\n",
      "job                                    skilled\n",
      "num_dependents                               1\n",
      "own_telephone                             none\n",
      "foreign_worker                             yes\n",
      "class                                     good\n",
      "Name: 777, dtype: object\n",
      "Puntaje asignado:  11 \n",
      "\n",
      "Crédito RECHAZADO!\n"
     ]
    }
   ],
   "source": [
    "analisis_credito(creditos.iloc[777])"
   ]
  },
  {
   "cell_type": "markdown",
   "metadata": {},
   "source": [
    "Es difícil ver caso por caso, por lo que vamos a preparar una tabla de confusión automatizando el clasificador. El script para la tabla de confusión cortesia de "
   ]
  },
  {
   "cell_type": "code",
   "execution_count": 78,
   "metadata": {},
   "outputs": [],
   "source": [
    "def get_confussion_matrix(umbral):\n",
    "    predicciones = []\n",
    "    for i in range(0,1000):\n",
    "        if asignar_puntaje(creditos.iloc[i]) > umbral:\n",
    "            predicciones.append(\"bad\")\n",
    "        else:\n",
    "            predicciones.append(\"good\")\n",
    "\n",
    "    import pandas as pd\n",
    "    y_actu = pd.Series(creditos['class'], name='Actual')\n",
    "    y_pred = pd.Series(predicciones, name='Predicted')\n",
    "    df_confusion = pd.crosstab(y_actu, y_pred)\n",
    "    return(df_confusion)"
   ]
  },
  {
   "cell_type": "code",
   "execution_count": 80,
   "metadata": {},
   "outputs": [
    {
     "data": {
      "text/html": [
       "<div>\n",
       "<style scoped>\n",
       "    .dataframe tbody tr th:only-of-type {\n",
       "        vertical-align: middle;\n",
       "    }\n",
       "\n",
       "    .dataframe tbody tr th {\n",
       "        vertical-align: top;\n",
       "    }\n",
       "\n",
       "    .dataframe thead th {\n",
       "        text-align: right;\n",
       "    }\n",
       "</style>\n",
       "<table border=\"1\" class=\"dataframe\">\n",
       "  <thead>\n",
       "    <tr style=\"text-align: right;\">\n",
       "      <th>Predicted</th>\n",
       "      <th>bad</th>\n",
       "      <th>good</th>\n",
       "    </tr>\n",
       "    <tr>\n",
       "      <th>Actual</th>\n",
       "      <th></th>\n",
       "      <th></th>\n",
       "    </tr>\n",
       "  </thead>\n",
       "  <tbody>\n",
       "    <tr>\n",
       "      <th>bad</th>\n",
       "      <td>218</td>\n",
       "      <td>82</td>\n",
       "    </tr>\n",
       "    <tr>\n",
       "      <th>good</th>\n",
       "      <td>461</td>\n",
       "      <td>239</td>\n",
       "    </tr>\n",
       "  </tbody>\n",
       "</table>\n",
       "</div>"
      ],
      "text/plain": [
       "Predicted  bad  good\n",
       "Actual              \n",
       "bad        218    82\n",
       "good       461   239"
      ]
     },
     "execution_count": 80,
     "metadata": {},
     "output_type": "execute_result"
    }
   ],
   "source": [
    "get_confussion_matrix(8)"
   ]
  },
  {
   "cell_type": "markdown",
   "metadata": {},
   "source": [
    "Probemos con un umbral menor, por ejemplo 6:"
   ]
  },
  {
   "cell_type": "code",
   "execution_count": 81,
   "metadata": {},
   "outputs": [
    {
     "data": {
      "text/html": [
       "<div>\n",
       "<style scoped>\n",
       "    .dataframe tbody tr th:only-of-type {\n",
       "        vertical-align: middle;\n",
       "    }\n",
       "\n",
       "    .dataframe tbody tr th {\n",
       "        vertical-align: top;\n",
       "    }\n",
       "\n",
       "    .dataframe thead th {\n",
       "        text-align: right;\n",
       "    }\n",
       "</style>\n",
       "<table border=\"1\" class=\"dataframe\">\n",
       "  <thead>\n",
       "    <tr style=\"text-align: right;\">\n",
       "      <th>Predicted</th>\n",
       "      <th>bad</th>\n",
       "      <th>good</th>\n",
       "    </tr>\n",
       "    <tr>\n",
       "      <th>Actual</th>\n",
       "      <th></th>\n",
       "      <th></th>\n",
       "    </tr>\n",
       "  </thead>\n",
       "  <tbody>\n",
       "    <tr>\n",
       "      <th>bad</th>\n",
       "      <td>292</td>\n",
       "      <td>8</td>\n",
       "    </tr>\n",
       "    <tr>\n",
       "      <th>good</th>\n",
       "      <td>665</td>\n",
       "      <td>35</td>\n",
       "    </tr>\n",
       "  </tbody>\n",
       "</table>\n",
       "</div>"
      ],
      "text/plain": [
       "Predicted  bad  good\n",
       "Actual              \n",
       "bad        292     8\n",
       "good       665    35"
      ]
     },
     "execution_count": 81,
     "metadata": {},
     "output_type": "execute_result"
    }
   ],
   "source": [
    "get_confussion_matrix(6)"
   ]
  },
  {
   "cell_type": "markdown",
   "metadata": {},
   "source": [
    "Con un umbral de 6 estamos arrojando demasiados falsos positivos (créditos que predecimos como malos que en la vida real son buenos). Subamos el umbral."
   ]
  },
  {
   "cell_type": "code",
   "execution_count": 82,
   "metadata": {},
   "outputs": [
    {
     "data": {
      "text/html": [
       "<div>\n",
       "<style scoped>\n",
       "    .dataframe tbody tr th:only-of-type {\n",
       "        vertical-align: middle;\n",
       "    }\n",
       "\n",
       "    .dataframe tbody tr th {\n",
       "        vertical-align: top;\n",
       "    }\n",
       "\n",
       "    .dataframe thead th {\n",
       "        text-align: right;\n",
       "    }\n",
       "</style>\n",
       "<table border=\"1\" class=\"dataframe\">\n",
       "  <thead>\n",
       "    <tr style=\"text-align: right;\">\n",
       "      <th>Predicted</th>\n",
       "      <th>bad</th>\n",
       "      <th>good</th>\n",
       "    </tr>\n",
       "    <tr>\n",
       "      <th>Actual</th>\n",
       "      <th></th>\n",
       "      <th></th>\n",
       "    </tr>\n",
       "  </thead>\n",
       "  <tbody>\n",
       "    <tr>\n",
       "      <th>bad</th>\n",
       "      <td>108</td>\n",
       "      <td>192</td>\n",
       "    </tr>\n",
       "    <tr>\n",
       "      <th>good</th>\n",
       "      <td>162</td>\n",
       "      <td>538</td>\n",
       "    </tr>\n",
       "  </tbody>\n",
       "</table>\n",
       "</div>"
      ],
      "text/plain": [
       "Predicted  bad  good\n",
       "Actual              \n",
       "bad        108   192\n",
       "good       162   538"
      ]
     },
     "execution_count": 82,
     "metadata": {},
     "output_type": "execute_result"
    }
   ],
   "source": [
    "get_confussion_matrix(10)"
   ]
  },
  {
   "cell_type": "code",
   "execution_count": 87,
   "metadata": {},
   "outputs": [
    {
     "data": {
      "text/html": [
       "<div>\n",
       "<style scoped>\n",
       "    .dataframe tbody tr th:only-of-type {\n",
       "        vertical-align: middle;\n",
       "    }\n",
       "\n",
       "    .dataframe tbody tr th {\n",
       "        vertical-align: top;\n",
       "    }\n",
       "\n",
       "    .dataframe thead th {\n",
       "        text-align: right;\n",
       "    }\n",
       "</style>\n",
       "<table border=\"1\" class=\"dataframe\">\n",
       "  <thead>\n",
       "    <tr style=\"text-align: right;\">\n",
       "      <th>Predicted</th>\n",
       "      <th>bad</th>\n",
       "      <th>good</th>\n",
       "    </tr>\n",
       "    <tr>\n",
       "      <th>Actual</th>\n",
       "      <th></th>\n",
       "      <th></th>\n",
       "    </tr>\n",
       "  </thead>\n",
       "  <tbody>\n",
       "    <tr>\n",
       "      <th>bad</th>\n",
       "      <td>19</td>\n",
       "      <td>281</td>\n",
       "    </tr>\n",
       "    <tr>\n",
       "      <th>good</th>\n",
       "      <td>19</td>\n",
       "      <td>681</td>\n",
       "    </tr>\n",
       "  </tbody>\n",
       "</table>\n",
       "</div>"
      ],
      "text/plain": [
       "Predicted  bad  good\n",
       "Actual              \n",
       "bad         19   281\n",
       "good        19   681"
      ]
     },
     "execution_count": 87,
     "metadata": {},
     "output_type": "execute_result"
    }
   ],
   "source": [
    "get_confussion_matrix(12)"
   ]
  },
  {
   "cell_type": "markdown",
   "metadata": {},
   "source": [
    "Dado nuestra pequeña fórmula heurística no admite mucha variación, hagamos una función que aplique los costos de errores y determine cual de todos nuestros umbrales es el mejor. "
   ]
  },
  {
   "cell_type": "markdown",
   "metadata": {},
   "source": [
    "# Evaluando Costos de Modelos Heurísticos\n",
    "Vamos a evaluar la puntuación de un modelo heurístico usando la tabla de costos determinada en el problema. \n",
    "![](CPresumen1.png)"
   ]
  },
  {
   "cell_type": "code",
   "execution_count": 89,
   "metadata": {},
   "outputs": [],
   "source": [
    "def get_puntaje(matriz):\n",
    "    puntaje = (matriz.iloc[0,0] * 0) + (matriz.iloc[0,1] * 5) + (matriz.iloc[1,0] * 1) + (matriz.iloc[1,1] * 0)\n",
    "    return(puntaje)"
   ]
  },
  {
   "cell_type": "markdown",
   "metadata": {},
   "source": [
    "Hagamos la prueba con valores del 6 al 10 (lo vamos a hacer a mano porque no es mucho código)."
   ]
  },
  {
   "cell_type": "code",
   "execution_count": 90,
   "metadata": {},
   "outputs": [
    {
     "name": "stdout",
     "output_type": "stream",
     "text": [
      "Umbral  6 arroja puntaje:  705\n",
      "Umbral  7 arroja puntaje:  773\n",
      "Umbral  8 arroja puntaje:  871\n",
      "Umbral  9 arroja puntaje:  979\n",
      "Umbral 10 arroja puntaje:  1122\n",
      "Umbral 11 arroja puntaje:  1263\n",
      "Umbral 12 arroja puntaje:  1424\n"
     ]
    }
   ],
   "source": [
    "print(\"Umbral  6 arroja puntaje: \", get_puntaje(get_confussion_matrix(6)))\n",
    "print(\"Umbral  7 arroja puntaje: \", get_puntaje(get_confussion_matrix(7)))\n",
    "print(\"Umbral  8 arroja puntaje: \", get_puntaje(get_confussion_matrix(8)))\n",
    "print(\"Umbral  9 arroja puntaje: \", get_puntaje(get_confussion_matrix(9)))\n",
    "print(\"Umbral 10 arroja puntaje: \", get_puntaje(get_confussion_matrix(10)))\n",
    "print(\"Umbral 11 arroja puntaje: \", get_puntaje(get_confussion_matrix(11)))\n",
    "print(\"Umbral 12 arroja puntaje: \", get_puntaje(get_confussion_matrix(12)))"
   ]
  },
  {
   "cell_type": "markdown",
   "metadata": {},
   "source": [
    "# Conclusión\n",
    "Obviamente, un modelo heurístico donde la proporción de penalización sea cinco a uno por falsos positivos tiene poca oportunidad de prosperar y castiga a un porcentaje mucho más grande de créditos buenos clasificados como malos de lo necesario. Sin embargo hemos comprobado con el ejercicio como utilizar reglas de visualización manteniendo consistencia en las mismas para tomar decisiones en la construcción de un modelo heurístico que otorga puntos de manera sencilla y puede ser evaluado con una función de costos. "
   ]
  }
 ],
 "metadata": {
  "kernelspec": {
   "display_name": "Python 3",
   "language": "python",
   "name": "python3"
  },
  "language_info": {
   "codemirror_mode": {
    "name": "ipython",
    "version": 3
   },
   "file_extension": ".py",
   "mimetype": "text/x-python",
   "name": "python",
   "nbconvert_exporter": "python",
   "pygments_lexer": "ipython3",
   "version": "3.7.6"
  }
 },
 "nbformat": 4,
 "nbformat_minor": 4
}
