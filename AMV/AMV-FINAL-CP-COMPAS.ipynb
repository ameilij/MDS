{
 "cells": [
  {
   "cell_type": "markdown",
   "metadata": {},
   "source": [
    "![](nebrija_logo.png)\n",
    "### La Ciencia de Datos: Técnica de Análisis, Mineria y Visualización \n",
    "# Caso Práctico Final"
   ]
  },
  {
   "cell_type": "markdown",
   "metadata": {},
   "source": [
    "# El Problema\n",
    "\n",
    "## Datos\n",
    "Cada día es más frecuente la introducción de la ciencia de datos en el ámbito del derecho y la justicia.\n",
    "\n",
    "Un ejemplo bien conocido de ello es el sistema COMPAS (Correctional offender management profiling for alternative sanctions) que se usa en varios estados de los Estados Unidos para hacer una evaluación del riesgo de reincidencia de las personas detenidas.\n",
    "\n",
    "Una breve descripción del sistema puede verse en la página https://en.wikipedia.org/wiki/COMPAS_(software).\n",
    "\n",
    "Aunque el conjunto de datos contiene información adicional, para resolver las cuestiones planteadas en este caso son necesarios (aparte de algunos campos cuyo nombre es autoexplicativo) los siguientes campos:\n",
    "\n",
    "1. `compas_screening_date`: se refiere a la fecha en la que se realizó la evaluación\n",
    "2. `decile_score`: es un número, de 1 a 10 que indica el riesgo de reincidencia en general (a mayor riesgo, mayor número).\n",
    "3. `v_decile_score`: es un número de 1 a 10, potencialmente distinto del anterior, que indica el riesgo de reincidencia en delitos violentos. Al hacer la evaluación de un caso en COMPAS, se generan las dos puntuaciones (entre otras cosas).\n",
    "4. `is_recid`: indicación de si la persona es reincidente (en el tiempo en que se recogen datos: no hay información de si la persona es reincidente más allá de ciertas fechas, y es importante tener esto en cuenta para asegurarse de hacer comparaciones homogéneas).\n",
    "5. `r_offense_date`: fecha en la que se cometió el delito por el que se considera reincidente a la persona.\n",
    "6. `is_violent_recid`: indicación de si la persona es reincidente en un delito con violencia (las mismas consideraciones sobre fechas que para `is_recid` aplican aquí).\n",
    "7. `vr_offense_date`: fecha en la que se cometió el delito violento que da lugar a la consideración de reincidente.\n",
    "\n",
    "## Trabajo\n",
    "Se pide del alumno:\n",
    "\n",
    "1. Cargar los datos y realizar un análisis exploratorio y una evaluación de la calidad de los datos necesarios para el resto del caso. Específicamente, evaluar la integridad, validez y actualidad de los datos y proponer estrategias de mitigación de los posibles problemas encontrados.\n",
    "2. ¿Son los campos `is_recid` e `is_violent_recid` en este conjunto de datos adecuados para evaluar la precisión de las estimaciones de riesgo generadas por el sistema COMPAS? Si no es así, definir y calcular una feature que sí lo sea.\n",
    "3. El umbral para establecer medidas preventivas de la reincidencia es de 7 en adelante. Dado este umbral, generar una tabla de contingencia, explicando qué caso se considera como “positivo” (y, por lo tanto, cuáles son los errores de tipo I y los errores de tipo II).\n",
    "4. El sistema asigna, de media, evaluaciones de riesgo más altas a los hombres que a las mujeres, y a las personas de raza afroamericana que a las de raza caucásica. Sin embargo, también las tasas de reincidencia son más altas para esos colectivos, aunque no está claro que la asignación de riesgo sea “justa” o no. Mostrar estas diferencias mediante representaciones gráficas y utilizarlas para analizar si la asignación de evaluaciones es justa o no.      \n",
    "5. ¿Para qué tipo de riesgos, el de delitos generales o el de delitos violentos, tiene el sistema más capacidad predictiva?\n"
   ]
  },
  {
   "cell_type": "markdown",
   "metadata": {},
   "source": [
    "# Introducción\n",
    "El sistema COMPAS (Correctional Offender Management Profiling for Alternative Sanctions) es un sistema que ha ganado cierto escrutinio por parte de grupos cívicos en Estados Unidos por tendencias a predecir resultados notablemente más nefastos para ciertos grupos minoritarios como afroamericanos y mujeres (Angwin, J. y Larson, J.,2016). El sistema es la a vez un programa cerrado con propiedad intelectual que no es software open source, lo que limita un poco el análisis del modelo que debe ser considerado una caja negra. La organización pública ProPublica de Estados Unidos llevó a cabo un estudio independiente donde intentó validar estadisticamente la precisión de los clasificadores, y en el cual encontró que \"el sistema solo clasificaba correctamente casos de reincidencia un 61% del tiempo, y solamente era correcto para casos de reincidencia violenta un 20% del tiempo.\" (Larson, J., et al, 2016). \n",
    "\n",
    "Para poder hacer un análisis correcto del juego de datos, debemos profundizar un poco en la estructura del mismo, tarea que se facilita ya que existe un sitio GitHub con el juego de datos y el código (en lenguaje R) para el análisis que obtuvieron los autores (Larson, J., Roswell, M., y Atlidakis, V., 2015). \n",
    "\n",
    "Cada vez que una persona es arrestada en aquellos estados de Estados Unidos donde se utiliza el sistema COMPAS, se le hace un cuestionario de 137 preguntas que define un puntaje del 1 al 10 que en realidad, un decil que trata de acomodarse como puntaje del 1 al 10 (Northpointe, 2011). Dicho puntaje tiene tres umbrales: 1 al 4 que define el riesgo de reincidencia como bajo, 5 al 7 que define el riesgo como mediano, y finalmente 8 al 10, que define el riesgo de reincidencia como alto. La escala aplica tanto a reincidencia como reincidencia violenta, aunque en realidad existen 4 escalas utilizadas en un total de 21 tipos diferentes de predicción. \n",
    "\n",
    "El hecho a profundizar es la relación entre el puntaje que otorgó COMPAS a cada persona respecto de si era prospecto de reincidencia y/o reincidencia violenta (dos puntajes separados) y la realidad de si la persona tuvo en algún momento un arresto por una ofensa mayor dentro de los dos años del análisis del estudio. Aquí es importante recordar que:\n",
    "\n",
    "* El sistema COMPAS determina como un puntaje del uno al diez el potencial de la persona para reincidir o reincidir de una forma violenta, y un umbral de riesgo categórico (bajo, mediano y alto) como explica el manual de uso. \n",
    "* Sin embargo es el juez quien decide si aplica un arresto preventivo y/o fija una valor de fianza mayor. COMPAS no clasifica de por si, sino que es una herramienta de apoyo de toma de decisión del juez, quien puede utilizarlo plenamente, parcialmente, o descartar el análisis si lo desea. \n",
    "* La empresa propietaria de COMPAS mantiene su algoritmo secreto, ya que es propiedad intelectual. El análisis de ProPublica es posible una vez que se pueden comparar los puntajes y predicciones de COMPAS versus el hecho que la persona haya reincidido o no. Una persona pudo haber obtenido un puntaje bajo, no reincidir y haber recibido o no un trato injusto, de la misma forma que una persona con puntaje alto pudo haber recibido trato injusto o su informe se ignoró y el juez falló de otra forma. No hay manera en el momento de aislar el efecto humano. \n",
    "\n",
    "El escrutinio de COMPAS es múltiple. Se trata de si los sistemas de predicción tienen sesgo, si el entrenamiento de datos tiene sesgo, y si la interpretación y aplicación del sistema tiene sesgo. El sistema COMPAS de por si no condena, solo el juez tiene esa autoridad. Adicionalmente se introduce el elemento de razo y género. ProPublica ya ha determinado sesgo en torno a raza y genero en su estudio (Larson, J. et al, 2016) y lo mismo ha sido sustentado en cierta forma por otros estudio profundos, como los de Matias Barenstein. Para nuestro caso práctico, nos centraremos mucho más en las técnicas de minería de datos, visualización y análisis de la data con métodos descriptivos, y no los análisis estadísticos profundos que buscan determinar sesgo de los datos (como por ejemplo los modelos de regresión logística y Supervivencia Kaplan Meier que aplicaron otros autores. \n"
   ]
  },
  {
   "cell_type": "markdown",
   "metadata": {},
   "source": [
    "# Carga, Limpieza y Calidad de los Datos\n",
    "Todo análisis comienza por la carga e inspección de los datos. En nuestro caso vamos a hacer una revisión general, y luego otra con especial enfasis en las variables especiales del problema. "
   ]
  },
  {
   "cell_type": "code",
   "execution_count": 1,
   "metadata": {},
   "outputs": [],
   "source": [
    "# Cargar librerias necesarias en el análisis\n",
    "import pandas as pd\n",
    "import numpy as np\n",
    "import matplotlib.pyplot as plt\n",
    "import seaborn as sns"
   ]
  },
  {
   "cell_type": "code",
   "execution_count": 2,
   "metadata": {},
   "outputs": [
    {
     "name": "stdout",
     "output_type": "stream",
     "text": [
      "<class 'pandas.core.frame.DataFrame'>\n",
      "RangeIndex: 11757 entries, 0 to 11756\n",
      "Data columns (total 47 columns):\n",
      " #   Column                   Non-Null Count  Dtype  \n",
      "---  ------                   --------------  -----  \n",
      " 0   id                       11757 non-null  int64  \n",
      " 1   name                     11757 non-null  object \n",
      " 2   first                    11757 non-null  object \n",
      " 3   last                     11757 non-null  object \n",
      " 4   compas_screening_date    11757 non-null  object \n",
      " 5   sex                      11757 non-null  object \n",
      " 6   dob                      11757 non-null  object \n",
      " 7   age                      11757 non-null  int64  \n",
      " 8   age_cat                  11757 non-null  object \n",
      " 9   race                     11757 non-null  object \n",
      " 10  juv_fel_count            11757 non-null  int64  \n",
      " 11  decile_score             11757 non-null  int64  \n",
      " 12  juv_misd_count           11757 non-null  int64  \n",
      " 13  juv_other_count          11757 non-null  int64  \n",
      " 14  priors_count             11757 non-null  int64  \n",
      " 15  days_b_screening_arrest  10577 non-null  float64\n",
      " 16  c_jail_in                10577 non-null  object \n",
      " 17  c_jail_out               10577 non-null  object \n",
      " 18  c_case_number            11015 non-null  object \n",
      " 19  c_offense_date           9157 non-null   object \n",
      " 20  c_arrest_date            1858 non-null   object \n",
      " 21  c_days_from_compas       11015 non-null  float64\n",
      " 22  c_charge_degree          11757 non-null  object \n",
      " 23  c_charge_desc            11008 non-null  object \n",
      " 24  is_recid                 11757 non-null  int64  \n",
      " 25  num_r_cases              0 non-null      float64\n",
      " 26  r_case_number            3703 non-null   object \n",
      " 27  r_charge_degree          11757 non-null  object \n",
      " 28  r_days_from_arrest       2460 non-null   float64\n",
      " 29  r_offense_date           3703 non-null   object \n",
      " 30  r_charge_desc            3643 non-null   object \n",
      " 31  r_jail_in                2460 non-null   object \n",
      " 32  r_jail_out               2460 non-null   object \n",
      " 33  is_violent_recid         11757 non-null  int64  \n",
      " 34  num_vr_cases             0 non-null      float64\n",
      " 35  vr_case_number           882 non-null    object \n",
      " 36  vr_charge_degree         882 non-null    object \n",
      " 37  vr_offense_date          882 non-null    object \n",
      " 38  vr_charge_desc           882 non-null    object \n",
      " 39  v_type_of_assessment     11757 non-null  object \n",
      " 40  v_decile_score           11757 non-null  int64  \n",
      " 41  v_score_text             11752 non-null  object \n",
      " 42  v_screening_date         11757 non-null  object \n",
      " 43  type_of_assessment       11757 non-null  object \n",
      " 44  decile_score.1           11757 non-null  int64  \n",
      " 45  score_text               11742 non-null  object \n",
      " 46  screening_date           11757 non-null  object \n",
      "dtypes: float64(5), int64(11), object(31)\n",
      "memory usage: 4.2+ MB\n"
     ]
    }
   ],
   "source": [
    "# Cargar juego de datos en un dataframe y revisar estructura\n",
    "compas = pd.read_csv(\"compas-scores.csv\")\n",
    "compas.info()"
   ]
  },
  {
   "cell_type": "markdown",
   "metadata": {},
   "source": [
    "Inmediatamente salta a la vista que las variables que representan fechas están en formato `object` que en Python representa una cadena tipo caracteres. Al momento de comparar fechas podemos tener problema, por lo que es importante representarlas en el formato correcto. "
   ]
  },
  {
   "cell_type": "code",
   "execution_count": 3,
   "metadata": {},
   "outputs": [
    {
     "name": "stdout",
     "output_type": "stream",
     "text": [
      "<class 'pandas.core.frame.DataFrame'>\n",
      "RangeIndex: 11757 entries, 0 to 11756\n",
      "Data columns (total 5 columns):\n",
      " #   Column                 Non-Null Count  Dtype         \n",
      "---  ------                 --------------  -----         \n",
      " 0   compas_screening_date  11757 non-null  datetime64[ns]\n",
      " 1   c_jail_in              10577 non-null  datetime64[ns]\n",
      " 2   c_jail_out             10577 non-null  datetime64[ns]\n",
      " 3   r_jail_in              2460 non-null   datetime64[ns]\n",
      " 4   r_jail_out             2460 non-null   datetime64[ns]\n",
      "dtypes: datetime64[ns](5)\n",
      "memory usage: 459.4 KB\n"
     ]
    }
   ],
   "source": [
    "tags = ['compas_screening_date', 'c_jail_in', 'c_jail_out', 'r_jail_in', 'r_jail_out']\n",
    "for variable in tags:\n",
    "    compas[variable] = pd.to_datetime(compas[variable])\n",
    "compas[tags].info()"
   ]
  },
  {
   "cell_type": "markdown",
   "metadata": {},
   "source": [
    "Revisemos rápidamente los rangos de valores de las columnas de puntaje y clasificación que usaremos en el caso práctico. "
   ]
  },
  {
   "cell_type": "code",
   "execution_count": 4,
   "metadata": {},
   "outputs": [
    {
     "data": {
      "text/html": [
       "<div>\n",
       "<style scoped>\n",
       "    .dataframe tbody tr th:only-of-type {\n",
       "        vertical-align: middle;\n",
       "    }\n",
       "\n",
       "    .dataframe tbody tr th {\n",
       "        vertical-align: top;\n",
       "    }\n",
       "\n",
       "    .dataframe thead th {\n",
       "        text-align: right;\n",
       "    }\n",
       "</style>\n",
       "<table border=\"1\" class=\"dataframe\">\n",
       "  <thead>\n",
       "    <tr style=\"text-align: right;\">\n",
       "      <th></th>\n",
       "      <th>decile_score</th>\n",
       "      <th>v_decile_score</th>\n",
       "      <th>is_recid</th>\n",
       "      <th>is_violent_recid</th>\n",
       "    </tr>\n",
       "  </thead>\n",
       "  <tbody>\n",
       "    <tr>\n",
       "      <th>count</th>\n",
       "      <td>11757.000000</td>\n",
       "      <td>11757.000000</td>\n",
       "      <td>11757.000000</td>\n",
       "      <td>11757.000000</td>\n",
       "    </tr>\n",
       "    <tr>\n",
       "      <th>mean</th>\n",
       "      <td>4.371268</td>\n",
       "      <td>3.571489</td>\n",
       "      <td>0.253806</td>\n",
       "      <td>0.075019</td>\n",
       "    </tr>\n",
       "    <tr>\n",
       "      <th>std</th>\n",
       "      <td>2.877598</td>\n",
       "      <td>2.500479</td>\n",
       "      <td>0.558324</td>\n",
       "      <td>0.263433</td>\n",
       "    </tr>\n",
       "    <tr>\n",
       "      <th>min</th>\n",
       "      <td>-1.000000</td>\n",
       "      <td>-1.000000</td>\n",
       "      <td>-1.000000</td>\n",
       "      <td>0.000000</td>\n",
       "    </tr>\n",
       "    <tr>\n",
       "      <th>25%</th>\n",
       "      <td>2.000000</td>\n",
       "      <td>1.000000</td>\n",
       "      <td>0.000000</td>\n",
       "      <td>0.000000</td>\n",
       "    </tr>\n",
       "    <tr>\n",
       "      <th>50%</th>\n",
       "      <td>4.000000</td>\n",
       "      <td>3.000000</td>\n",
       "      <td>0.000000</td>\n",
       "      <td>0.000000</td>\n",
       "    </tr>\n",
       "    <tr>\n",
       "      <th>75%</th>\n",
       "      <td>7.000000</td>\n",
       "      <td>5.000000</td>\n",
       "      <td>1.000000</td>\n",
       "      <td>0.000000</td>\n",
       "    </tr>\n",
       "    <tr>\n",
       "      <th>max</th>\n",
       "      <td>10.000000</td>\n",
       "      <td>10.000000</td>\n",
       "      <td>1.000000</td>\n",
       "      <td>1.000000</td>\n",
       "    </tr>\n",
       "  </tbody>\n",
       "</table>\n",
       "</div>"
      ],
      "text/plain": [
       "       decile_score  v_decile_score      is_recid  is_violent_recid\n",
       "count  11757.000000    11757.000000  11757.000000      11757.000000\n",
       "mean       4.371268        3.571489      0.253806          0.075019\n",
       "std        2.877598        2.500479      0.558324          0.263433\n",
       "min       -1.000000       -1.000000     -1.000000          0.000000\n",
       "25%        2.000000        1.000000      0.000000          0.000000\n",
       "50%        4.000000        3.000000      0.000000          0.000000\n",
       "75%        7.000000        5.000000      1.000000          0.000000\n",
       "max       10.000000       10.000000      1.000000          1.000000"
      ]
     },
     "execution_count": 4,
     "metadata": {},
     "output_type": "execute_result"
    }
   ],
   "source": [
    "tags = ['decile_score', 'v_decile_score', 'is_recid', 'is_violent_recid']\n",
    "compas[tags].describe()"
   ]
  },
  {
   "cell_type": "markdown",
   "metadata": {},
   "source": [
    "Aquí hay dos casos aparte que revisar. Primero, porque los valores de las columnas `decile_score` y `v_decile_score`, que supuestamente van del 1 al 10, tienen valores -1, y luego el significado de -1 en `is_recid` que debiera ser una variable binaria. "
   ]
  },
  {
   "cell_type": "code",
   "execution_count": 5,
   "metadata": {},
   "outputs": [
    {
     "data": {
      "image/png": "[encoded data removed]",
      "text/plain": [
       "<Figure size 432x288 with 1 Axes>"
      ]
     },
     "metadata": {},
     "output_type": "display_data"
    }
   ],
   "source": [
    "# Revisar distribución de valores decile_score\n",
    "sns.set_theme(style=\"whitegrid\")\n",
    "ax = sns.countplot(x = 'decile_score', data = compas)\n",
    "ax.set_title(\"Distribución de la Variable decile_score\")\n",
    "plt.show()"
   ]
  },
  {
   "cell_type": "code",
   "execution_count": 6,
   "metadata": {},
   "outputs": [
    {
     "data": {
      "text/plain": [
       "15"
      ]
     },
     "execution_count": 6,
     "metadata": {},
     "output_type": "execute_result"
    }
   ],
   "source": [
    "# ¿Cuántos valores de -1 en decile_score?\n",
    "compas[compas['decile_score'] == -1]['decile_score'].count()"
   ]
  },
  {
   "cell_type": "markdown",
   "metadata": {},
   "source": [
    "La cantidad es suficientemente menor como para no ser significativa en el análisis. Avancemos ahora con la columna `v_decile_score`."
   ]
  },
  {
   "cell_type": "code",
   "execution_count": 7,
   "metadata": {},
   "outputs": [
    {
     "data": {
      "image/png": "[encoded data removed]",
      "text/plain": [
       "<Figure size 432x288 with 1 Axes>"
      ]
     },
     "metadata": {},
     "output_type": "display_data"
    }
   ],
   "source": [
    "# Revisar distribución de valores decile_score\n",
    "sns.set_theme(style=\"whitegrid\")\n",
    "ax = sns.countplot(x = 'v_decile_score', data = compas)\n",
    "ax.set_title(\"Distribución de la Variable v_decile_score\")\n",
    "plt.show()"
   ]
  },
  {
   "cell_type": "code",
   "execution_count": 8,
   "metadata": {},
   "outputs": [
    {
     "data": {
      "text/plain": [
       "5"
      ]
     },
     "execution_count": 8,
     "metadata": {},
     "output_type": "execute_result"
    }
   ],
   "source": [
    "# ¿Cuántos valores de -1 en v_decile_score?\n",
    "compas[compas['v_decile_score'] == -1]['v_decile_score'].count()"
   ]
  },
  {
   "cell_type": "markdown",
   "metadata": {},
   "source": [
    "La cantidad es inclusive menor, y no debiera afectar el resultado de los análisis que haremos posteriormente."
   ]
  },
  {
   "cell_type": "markdown",
   "metadata": {},
   "source": [
    "Sobre el significado del valor -1 en la columna `is_recid`, es algo adrede realizado por el equipo de ProPublica en el análisis de los datos. Matias Barenstein ya analizó este caso y detecto que: \"... Adicionalmente, ProPublica también eliminó 719 personas de las cuales no tenía datos fiables. Propublica no pudo encontrar información de casos/arrestos de los mismos. ProPublica etiquetó estos casos como \"is_recid = -1\" en el juego de datos completo 3.0...\" (Barenstein, M., 2019). ¿Cómo manejar esta variable que el mismo ProPublica etiquetó como poco fiables? Asumimos que el cambio de estatus es adrede y que no debieran conformar parte de cualquier análisis que hagamos ya que los datos carecen de veracidad. Asumimos esta postura ya que según el artículo científico de Barenstein estos registros se cambiaron de 1 (reincidente) a -1 (no hay prueba de reincidencia), contradiciendo la validez del primer estado. Solo para confirmar, revisemos si cuando la columna `is_recid` esta fijada al valor -1, hay una fecha de caso reincidente (o sea la columna `r_offense_date` debiera ser nula, ya que nunca se registró un arresto que califique como reincidencia)."
   ]
  },
  {
   "cell_type": "code",
   "execution_count": 9,
   "metadata": {},
   "outputs": [
    {
     "data": {
      "text/plain": [
       "719"
      ]
     },
     "execution_count": 9,
     "metadata": {},
     "output_type": "execute_result"
    }
   ],
   "source": [
    "# Casos que aparecen como is_recid == -1 y fecha nula\n",
    "compas[(compas['is_recid'] == -1) & (compas['r_offense_date'].isnull())]['is_recid'].count()"
   ]
  },
  {
   "cell_type": "markdown",
   "metadata": {},
   "source": [
    "El resultado es 719, exactamente como explica Barenstein en su disertación."
   ]
  },
  {
   "cell_type": "markdown",
   "metadata": {},
   "source": [
    "# Validez de Flags de Reincidencia y Reincidencia Violenta"
   ]
  },
  {
   "cell_type": "markdown",
   "metadata": {},
   "source": [
    "En el punto anterior anticipamos los problemas de la columna `is_recid` que debe medir el estatus de reincidencia o no como una variable binaria pero contiene tres valores (-1, 0 y 1). ProPublica precalifico con -1 todos los casos que el sistema no aclara de forma perfecta que hubo reincidencia. Para propósitos de nuestro análisis debemos tomar cualquier valor que no prueba fehacientemente la reincidencia como no reincidente (de la misma forma que la persona es inocente a menos que se compruebe culpable). En tal caso construiremos un _feature_ con solo dos valores."
   ]
  },
  {
   "cell_type": "code",
   "execution_count": 10,
   "metadata": {},
   "outputs": [
    {
     "data": {
      "image/png": "[encoded data removed]",
      "text/plain": [
       "<Figure size 432x288 with 1 Axes>"
      ]
     },
     "metadata": {},
     "output_type": "display_data"
    }
   ],
   "source": [
    "# Construir feature binario nuevo de is_recid sin ambiguedad\n",
    "# Lección de LIST COMPREHENSION original de https://data-flair.training/blogs/python-list-comprehension/\n",
    "compas['reincidencia'] = [0 if x < 1 else 1 for x in compas['is_recid']]\n",
    "\n",
    "# Revisar distribución de nuevo feature\n",
    "sns.countplot(x = 'reincidencia', data = compas)\n",
    "plt.show()"
   ]
  },
  {
   "cell_type": "markdown",
   "metadata": {},
   "source": [
    "Si la variable `is_recid` contenía artefactos del análisis de ProPublica que nos llevó a crear nuestro propio feature `reindicente`, cabe la posibilidad de que la variable `is_violent_recid` tambien tenga errores. Cómo mínimo, todo caso con una bandera de reincidencia violenta debiera contar con una fecha de caso de reincidencia violenta, y la distribución de valores debiera ser binaria. "
   ]
  },
  {
   "cell_type": "code",
   "execution_count": 11,
   "metadata": {},
   "outputs": [
    {
     "data": {
      "image/png": "[encoded data removed]",
      "text/plain": [
       "<Figure size 432x288 with 1 Axes>"
      ]
     },
     "metadata": {},
     "output_type": "display_data"
    }
   ],
   "source": [
    "# Revisar distribución de is_violent_recid\n",
    "sns.countplot(x = 'is_violent_recid', data = compas)\n",
    "plt.show()"
   ]
  },
  {
   "cell_type": "code",
   "execution_count": 18,
   "metadata": {},
   "outputs": [
    {
     "name": "stdout",
     "output_type": "stream",
     "text": [
      "Casos de reincidencia violenta:  882\n"
     ]
    }
   ],
   "source": [
    "# Obtener cantidad exacta de reincidencias violentas\n",
    "print(\"Casos de reincidencia violenta: \", compas[compas['is_violent_recid'] == 1]['is_violent_recid'].count())"
   ]
  },
  {
   "cell_type": "code",
   "execution_count": 56,
   "metadata": {},
   "outputs": [
    {
     "name": "stdout",
     "output_type": "stream",
     "text": [
      "Casos de reincidencia violenta con fecha nula:  0\n"
     ]
    }
   ],
   "source": [
    "# Comprobar que todos los casos de reincidencia violenta tienen fecha de registro\n",
    "bar = compas[compas['is_violent_recid'] == 1]\n",
    "print(\"Casos de reincidencia violenta con fecha nula: \", bar[bar['r_jail_in'].isnull()]['r_jail_in'].count())"
   ]
  },
  {
   "cell_type": "markdown",
   "metadata": {},
   "source": [
    "# Revisión del Poder de Clasificación de COMPAS Ante la Reincidencia"
   ]
  },
  {
   "cell_type": "markdown",
   "metadata": {},
   "source": [
    "Antes de avanzar en este punto debemos recordar que **COMPAS no es un sistema de clasificación sino de asesoría**. El propio manual de COMPAS especifica que las escalas y puntajes son una herramienta para ayudar al practicante legal a tomar decisiones con mayor velocidad y orden (Northpointe, 2012). Si aceptamos que el umbral para establecer medidas preventivas de la reincidencia es de 7 en adelante (algo que el manual en sí no especifica pero que para intenciones prácticas del siguiente análisis es un buen punto de partida). debemos poder generar una tabla de contingencia, explicando qué caso se considera como _positivo_ (y, por lo tanto, cuáles son los errores de tipo I y los errores de tipo II)."
   ]
  },
  {
   "cell_type": "markdown",
   "metadata": {},
   "source": [
    "**Nota aclaratoria:** Para propósitos de este análisis interpretamos \"...es de 7 en adelante...\" como `x > 7` para casos que merezcan medidas preventivas y `x <= 7` como casos que no la merecen, un resultado que es más cercano al propio manual de COMPAS (Northpointe, 2012)."
   ]
  },
  {
   "cell_type": "markdown",
   "metadata": {},
   "source": [
    "Para avanzar primero definamos dos funciones: una para extraer la matriz de confusión de una manera sencilla y que nos facilite la impresión de la misma (la libreria SciKit tiene una función pero no imprime bien en Mac OSX), y otra para determinar todo tipo de indicadores de clasificación binaria resultados de una matriz de confusión."
   ]
  },
  {
   "cell_type": "code",
   "execution_count": 65,
   "metadata": {},
   "outputs": [],
   "source": [
    "def matriz_confusion(pred, actual):\n",
    "    \"\"\"Construye una matriz de confusión.\n",
    "    \n",
    "    La función construye una matriz de confusión amigable y fácil de imprimir\n",
    "    en pantalla con solo dos parámetros. Funciona con valores de enteros pero\n",
    "    no tienen que ser necesariamente binarios (ejemplo: 0 y 1). \n",
    "    \n",
    "    Args:\n",
    "        pred: lista o columna de un dataframe con los valores de predicción.\n",
    "        actual: lista o columna con valores actuales del juego de datos\n",
    "    \n",
    "    Returns:\n",
    "        Retorna un elemento crosstab cuyos componentes individuales pueden\n",
    "        indexarse para obtener precision, positividad, etc. \n",
    "        \n",
    "    \"\"\"\n",
    "    \n",
    "    y_actu = pd.Series(actual, name='Actual')\n",
    "    y_pred = pd.Series(pred, name='Predicted')\n",
    "    df_confusion = pd.crosstab(y_pred, y_actu)\n",
    "    return(df_confusion)\n",
    "\n",
    "def indicadores(matriz):\n",
    "    \"\"\"Cálculo de indicadores principales de clasificación binaria\n",
    "    \n",
    "    Método sencillo que calcula los principales indicadores de clasificación\n",
    "    binaria a partir de una matriz de confusión que ha su vez ha sido calculada\n",
    "    con matriz_confusión.\n",
    "    \n",
    "    Args:\n",
    "        matriz: una matriz de confusión resultante de aplicar la función\n",
    "        matriz_confusión a dos vectores de predicciones y resultados actuales.\n",
    "        \n",
    "    Returns:\n",
    "        Impresión en pantalla de TP, FP, TN, FN, sensibilidad, especificidad, \n",
    "        precisión, exactitud y tasa de falsos negativos.\n",
    "    \n",
    "    \"\"\"\n",
    "    TP = matriz[1][1]\n",
    "    FP = matriz[0][1]\n",
    "    TN = matriz[0][0]\n",
    "    FN = matriz[1][0]\n",
    "    sensitivity = round(TP / (TP + FN), 3) * 100\n",
    "    specificity = round(TN / (TN + FP), 3) * 100\n",
    "    precision = round(TP / (TP + FP), 3) * 100\n",
    "    exactitud = round((TP + TN) / (TP + FP + TN + FN), 3) * 100\n",
    "    tasa_falsos_negativos = round(100 - specificity, 3)\n",
    "       \n",
    "    print(\"TP = \", TP)\n",
    "    print(\"FP = \", FP)\n",
    "    print(\"TN = \", TN)\n",
    "    print(\"FN = \", FN)\n",
    "    print(\"------------------------------\")\n",
    "    print(\"sensibilidad = \", sensitivity,\"%\")\n",
    "    print(\"especificidad = \", specificity,\"%\")\n",
    "    print(\"precision = \", precision,\"%\")\n",
    "    print(\"exactitud = \", exactitud,\"%\")\n",
    "    print(\"tasa falsos negativos = \", tasa_falsos_negativos, \"%\")\n",
    "   "
   ]
  },
  {
   "cell_type": "code",
   "execution_count": 76,
   "metadata": {},
   "outputs": [
    {
     "data": {
      "text/html": [
       "<div>\n",
       "<style scoped>\n",
       "    .dataframe tbody tr th:only-of-type {\n",
       "        vertical-align: middle;\n",
       "    }\n",
       "\n",
       "    .dataframe tbody tr th {\n",
       "        vertical-align: top;\n",
       "    }\n",
       "\n",
       "    .dataframe thead th {\n",
       "        text-align: right;\n",
       "    }\n",
       "</style>\n",
       "<table border=\"1\" class=\"dataframe\">\n",
       "  <thead>\n",
       "    <tr style=\"text-align: right;\">\n",
       "      <th>Actual</th>\n",
       "      <th>0</th>\n",
       "      <th>1</th>\n",
       "    </tr>\n",
       "    <tr>\n",
       "      <th>Predicted</th>\n",
       "      <th></th>\n",
       "      <th></th>\n",
       "    </tr>\n",
       "  </thead>\n",
       "  <tbody>\n",
       "    <tr>\n",
       "      <th>0</th>\n",
       "      <td>6952</td>\n",
       "      <td>2597</td>\n",
       "    </tr>\n",
       "    <tr>\n",
       "      <th>1</th>\n",
       "      <td>1102</td>\n",
       "      <td>1106</td>\n",
       "    </tr>\n",
       "  </tbody>\n",
       "</table>\n",
       "</div>"
      ],
      "text/plain": [
       "Actual        0     1\n",
       "Predicted            \n",
       "0          6952  2597\n",
       "1          1102  1106"
      ]
     },
     "execution_count": 76,
     "metadata": {},
     "output_type": "execute_result"
    }
   ],
   "source": [
    "# Analizar poder de clasificación de reincidencia\n",
    "pred = []\n",
    "for index, rows in compas.iterrows():\n",
    "    if rows['decile_score'] > 7:\n",
    "        pred.append(1)\n",
    "    else:\n",
    "        pred.append(0)\n",
    "\n",
    "# Obtener matriz de confusión\n",
    "matriz_confusion(pred, compas['reincidencia'])\n"
   ]
  },
  {
   "cell_type": "code",
   "execution_count": 77,
   "metadata": {},
   "outputs": [
    {
     "name": "stdout",
     "output_type": "stream",
     "text": [
      "TP =  1106\n",
      "FP =  1102\n",
      "TN =  6952\n",
      "FN =  2597\n",
      "------------------------------\n",
      "sensibilidad =  29.9 %\n",
      "especificidad =  86.3 %\n",
      "precision =  50.1 %\n",
      "exactitud =  68.5 %\n",
      "tasa falsos negativos =  13.7 %\n"
     ]
    }
   ],
   "source": [
    "# Obtener principales indicadores de clasificación binaria\n",
    "indicadores(matriz_confusion(pred, compas['reincidencia']))"
   ]
  },
  {
   "cell_type": "code",
   "execution_count": 83,
   "metadata": {},
   "outputs": [
    {
     "name": "stdout",
     "output_type": "stream",
     "text": [
      "TP:  1106 | FP:  1102 | FN:  2597 | TN:  6952\n"
     ]
    }
   ],
   "source": [
    "# Test rápido para comprobar matriz de confusión\n",
    "x_tp = compas.query('decile_score >  7 & reincidencia == 1')['is_recid'].count()\n",
    "x_fp = compas.query('decile_score >  7 & reincidencia == 0')['is_recid'].count()\n",
    "x_fn = compas.query('decile_score <= 7 & reincidencia == 1')['is_recid'].count()\n",
    "x_tn = compas.query('decile_score <= 7 & reincidencia == 0')['is_recid'].count()\n",
    "print(\"TP: \", x_tp, \"| FP: \", x_fp, \"| FN: \", x_fn, \"| TN: \", x_tn)"
   ]
  },
  {
   "cell_type": "markdown",
   "metadata": {},
   "source": [
    "Al ver los resultados cabe preguntarnos que es más importante, ¿sensibilidad vs. especificidad? En una prueba médica quizás es más importante la sensibilidad (detectar correctamente los casos positivos) versus la especificidad (detectar realmente los casos negativos). Pero a diferencia de la medicina en este caso es mejor que ante la duda de que un acusado se evalue como reincidente (y empeoren las condiciones de fianza o se incluya prisión preventiva) se evalúe como no reincidente ya que bajo la ley todo individuo es inocente hasta ser comprobado culpable. En ese sentido la especificidad de COMPAS es alta versus la sensibilidad, y si bien el sistema predice como no reincidentes a 2,597 personas que si lo fueron, solo predice como reincidentes a 1,102 personas que no lo fueron, reduciendo el impacto psicológico de permanecer arrestado más de lo necesario. En términos propios de la ciencia de datos, el grado de errores de tipo I (falsos positivos) es menor que el grado de errores de tipo II (falsos negativos)."
   ]
  },
  {
   "cell_type": "markdown",
   "metadata": {},
   "source": [
    "Un punto a considerar es que ProPublica en su análisis publicado no uso los 11,757 casos completos, sino mucho menos, explicando que \"...Removimos gente de nuestro juego de datos para los cuales existía menos de dos años de información de reincidencia. La población restante sumaba 7,214 - mayor que el modelo de regresión logística, porque no necesitamos la información sobre el caso del acusado en esta instancia del análisis...\" (Larson, J., Mattu, S., Kirchner, L. y Angwin, J., 2016). En nuestro caso particular estamos usando el total del juego de datos y no tenemos forma segura de reconfirmar como extrapolar esta variablea 7,214 casos. En el cuaderno Jupyter de ProPublica, que se ubica en Github, el código R hace una llamada a la variable `i.lifetime` de un juego `cox-parsed.csv` para la regresión Cox. En dicho análisis, tomando la población general, el indicador de sensibilidad es de 63% (superior a nuestros resultados) y el indicador de especificidad es de 68% (inferior a nuestros resultados). Parece un clasificador más balanceado que el que nosotros obtenemos con todos los casos ajustadando nuestro `feature` de reincidencia, pero el uso de la regresión Cox varía ligeramente la interpretación de la matriz de confusión (Larson, J. y Roswell, M., 2017)"
   ]
  },
  {
   "cell_type": "code",
   "execution_count": null,
   "metadata": {},
   "outputs": [],
   "source": []
  }
 ],
 "metadata": {
  "kernelspec": {
   "display_name": "Python 3",
   "language": "python",
   "name": "python3"
  },
  "language_info": {
   "codemirror_mode": {
    "name": "ipython",
    "version": 3
   },
   "file_extension": ".py",
   "mimetype": "text/x-python",
   "name": "python",
   "nbconvert_exporter": "python",
   "pygments_lexer": "ipython3",
   "version": "3.7.6"
  }
 },
 "nbformat": 4,
 "nbformat_minor": 4
}
