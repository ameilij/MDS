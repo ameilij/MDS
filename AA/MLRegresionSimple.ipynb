{
 "cells": [
  {
   "cell_type": "markdown",
   "metadata": {},
   "source": [
    "# Aprendizaje Automatizado con Regresión Lineal Simple"
   ]
  },
  {
   "cell_type": "code",
   "execution_count": 22,
   "metadata": {},
   "outputs": [],
   "source": [
    "import numpy as np\n",
    "import random\n",
    "from sklearn import linear_model\n",
    "from sklearn.metrics import mean_squared_error, r2_score\n",
    "import matplotlib.pyplot as plt\n",
    "%matplotlib inline"
   ]
  },
  {
   "cell_type": "code",
   "execution_count": 23,
   "metadata": {},
   "outputs": [],
   "source": [
    "# Generador de distribución de datos para la regresión simple\n",
    "def generador_datos_simple(beta, muestras, desviación):\n",
    "    x = np.random.random(muestras) * 100\n",
    "    e = np.random.randn(muestras) * desviación\n",
    "    y = x * beta + e\n",
    "    return x.reshape((muestras, 1)), y.reshape((muestras, 1))"
   ]
  },
  {
   "cell_type": "markdown",
   "metadata": {},
   "source": [
    "El código de la universidad no lo dice implicitamente, pero el modelo es el resultado de dos cosas diferentes. Primero, un juego de datos x,y generado por `generador_datos_simple` que es solo números, y luego el objeto instanciado de modelo en la linea:\n",
    "\n",
    "`modelo = linear_model.LinearRegression()`\n",
    "\n",
    "Este modelo aún depende de los datos `x,y` para ser válido, es un objeto instanciado vacío hasta ese momento, pero tiene los métodos para generar la regresión lineal. "
   ]
  },
  {
   "cell_type": "code",
   "execution_count": 46,
   "metadata": {},
   "outputs": [],
   "source": [
    "desviacion = 200\n",
    "beta = 10\n",
    "n = 50\n",
    "x,y = generador_datos_simple(beta, n, desviacion)"
   ]
  },
  {
   "cell_type": "code",
   "execution_count": 47,
   "metadata": {},
   "outputs": [
    {
     "data": {
      "image/png": "[encoded data removed]",
      "text/plain": [
       "<Figure size 432x288 with 1 Axes>"
      ]
     },
     "metadata": {
      "needs_background": "light"
     },
     "output_type": "display_data"
    }
   ],
   "source": [
    "plt.scatter(x,y)\n",
    "plt.show()"
   ]
  },
  {
   "cell_type": "code",
   "execution_count": 48,
   "metadata": {},
   "outputs": [],
   "source": [
    "# Crear el juego de datos con la libreria linear_model\n",
    "modelo = linear_model.LinearRegression()"
   ]
  },
  {
   "cell_type": "code",
   "execution_count": 49,
   "metadata": {},
   "outputs": [
    {
     "data": {
      "text/plain": [
       "LinearRegression()"
      ]
     },
     "execution_count": 49,
     "metadata": {},
     "output_type": "execute_result"
    }
   ],
   "source": [
    "# Entrenar el modelo con la misma libreria (hereda las propiedades)\n",
    "modelo.fit(x, y)"
   ]
  },
  {
   "cell_type": "code",
   "execution_count": 50,
   "metadata": {},
   "outputs": [
    {
     "name": "stdout",
     "output_type": "stream",
     "text": [
      "Coeficiente beta1:  [9.71959411]\n"
     ]
    }
   ],
   "source": [
    "# Veamos un coeficiente\n",
    "print(u'Coeficiente beta1: ', modelo.coef_[0])"
   ]
  },
  {
   "cell_type": "markdown",
   "metadata": {},
   "source": [
    "Con este modelo podemos predecir los valores de $\\hat{y}$ y además obtener el error cuadrático y el R^2."
   ]
  },
  {
   "cell_type": "code",
   "execution_count": 51,
   "metadata": {},
   "outputs": [
    {
     "name": "stdout",
     "output_type": "stream",
     "text": [
      "Error cuadrático medio:  38201.25804717805\n",
      "Estadístico R_2:  0.663681360637818\n"
     ]
    }
   ],
   "source": [
    "y_pred = modelo.predict(x)\n",
    "\n",
    "print(u'Error cuadrático medio: ', mean_squared_error(y, y_pred))\n",
    "print(u'Estadístico R_2: ', r2_score(y, y_pred))"
   ]
  },
  {
   "cell_type": "markdown",
   "metadata": {},
   "source": [
    "Hagamos un gráfico del resultado."
   ]
  },
  {
   "cell_type": "code",
   "execution_count": 52,
   "metadata": {},
   "outputs": [
    {
     "data": {
      "image/png": "[encoded data removed]",
      "text/plain": [
       "<Figure size 432x288 with 1 Axes>"
      ]
     },
     "metadata": {
      "needs_background": "light"
     },
     "output_type": "display_data"
    }
   ],
   "source": [
    "plt.scatter(x,y)\n",
    "plt.plot(x, y_pred, color='red')\n",
    "x_real = np.array([0,100])\n",
    "y_real = x_real * beta\n",
    "\n",
    "plt.plot(x_real, y_real, color = 'green')\n",
    "plt.show()"
   ]
  },
  {
   "cell_type": "code",
   "execution_count": null,
   "metadata": {},
   "outputs": [],
   "source": []
  }
 ],
 "metadata": {
  "kernelspec": {
   "display_name": "Python 3",
   "language": "python",
   "name": "python3"
  },
  "language_info": {
   "codemirror_mode": {
    "name": "ipython",
    "version": 3
   },
   "file_extension": ".py",
   "mimetype": "text/x-python",
   "name": "python",
   "nbconvert_exporter": "python",
   "pygments_lexer": "ipython3",
   "version": "3.7.7"
  }
 },
 "nbformat": 4,
 "nbformat_minor": 4
}
