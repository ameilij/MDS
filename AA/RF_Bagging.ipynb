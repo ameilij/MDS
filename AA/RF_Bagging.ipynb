{
 "cells": [
  {
   "cell_type": "markdown",
   "metadata": {},
   "source": [
    "# Random Forest y Bagging en Clasificación\n",
    "Al usar algoritmos de bagging en clasificación, como es el caso de los bosques aleatorios, la construcción es análoga a la de clasificación. La diferencia reside en la forma de agrupar los resultados de algoritmos simples. En este caso se realiza un procedimiento que se conoce como votación. Es decir, elegir el valor de la variable dependiente más repetida en los algoritmos independientes."
   ]
  },
  {
   "cell_type": "code",
   "execution_count": 1,
   "metadata": {},
   "outputs": [],
   "source": [
    "# librerias\n",
    "from sklearn.datasets import load_digits\n",
    "from sklearn.ensemble import RandomForestClassifier\n",
    "import pandas as pd\n",
    "import matplotlib.pyplot as plt\n",
    "from sklearn.model_selection import GridSearchCV, train_test_split"
   ]
  },
  {
   "cell_type": "markdown",
   "metadata": {},
   "source": [
    "En este caso se va a utilizar un algoritmo Random Forest para clasificar dígitos. Para ello se carga primero un dataset de dígitos y se asignan las variables independientes y la dependiente a X e Y, respectivamente."
   ]
  },
  {
   "cell_type": "code",
   "execution_count": 3,
   "metadata": {},
   "outputs": [
    {
     "name": "stdout",
     "output_type": "stream",
     "text": [
      "2\n"
     ]
    },
    {
     "data": {
      "image/png": "[encoded data removed]",
      "text/plain": [
       "<Figure size 432x288 with 1 Axes>"
      ]
     },
     "metadata": {
      "needs_background": "light"
     },
     "output_type": "display_data"
    }
   ],
   "source": [
    "# dataset de números\n",
    "digits = load_digits()\n",
    "X, y = digits.data, digits.target\n",
    "idx = 2\n",
    "img = X[idx, :].reshape(8,8)\n",
    "print(y[idx])\n",
    "plt.imshow(img, cmap=\"gray\")\n",
    "plt.show()"
   ]
  },
  {
   "cell_type": "code",
   "execution_count": 6,
   "metadata": {},
   "outputs": [
    {
     "data": {
      "text/plain": [
       "GridSearchCV(cv=3, estimator=RandomForestClassifier(), n_jobs=-1,\n",
       "             param_grid={'max_depth': [5, 7, 9], 'max_features': [10, 'sqrt'],\n",
       "                         'n_estimators': [10, 50, 100, 200]})"
      ]
     },
     "execution_count": 6,
     "metadata": {},
     "output_type": "execute_result"
    }
   ],
   "source": [
    "# entrenamiento\n",
    "X_train, X_test, y_train, y_test = train_test_split(X, y, random_state=42)\n",
    "\n",
    "clf = RandomForestClassifier()\n",
    "params = {\"n_estimators\" : [10,50,100,200],\n",
    "         \"max_depth\" : [5,7,9], \n",
    "         \"max_features\" : [10, \"sqrt\"]}\n",
    "\n",
    "clf_grid = GridSearchCV(clf, params, cv=3, n_jobs=-1)\n",
    "clf_grid.fit(X_train, y_train)"
   ]
  },
  {
   "cell_type": "code",
   "execution_count": 8,
   "metadata": {},
   "outputs": [
    {
     "name": "stdout",
     "output_type": "stream",
     "text": [
      "Mejores parametros del modelo: {'max_depth': 9, 'max_features': 10, 'n_estimators': 100}\n",
      "- Accuracy de los datos de train: 1.0 \n",
      "- Accuracy de los datos del test: 0.98\n"
     ]
    }
   ],
   "source": [
    "print(u'Mejores parametros del modelo: {}'.format(clf_grid.best_params_))\n",
    "print(u'- Accuracy de los datos de train: {} \\n- Accuracy de los datos del test: {}'.format(clf_grid.score(X_train, y_train), round(clf_grid.score(X_test, y_test), 2)))"
   ]
  }
 ],
 "metadata": {
  "kernelspec": {
   "display_name": "Python 3",
   "language": "python",
   "name": "python3"
  },
  "language_info": {
   "codemirror_mode": {
    "name": "ipython",
    "version": 3
   },
   "file_extension": ".py",
   "mimetype": "text/x-python",
   "name": "python",
   "nbconvert_exporter": "python",
   "pygments_lexer": "ipython3",
   "version": "3.7.7"
  }
 },
 "nbformat": 4,
 "nbformat_minor": 4
}
